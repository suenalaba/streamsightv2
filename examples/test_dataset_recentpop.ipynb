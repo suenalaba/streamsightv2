{
 "cells": [
  {
   "cell_type": "markdown",
   "metadata": {},
   "source": [
    "# RecentPopularity Algorithm on Test Dataset"
   ]
  },
  {
   "cell_type": "code",
   "execution_count": null,
   "metadata": {},
   "outputs": [
    {
     "name": "stdout",
     "output_type": "stream",
     "text": [
      "INFO - streamsight package loaded.\n",
      "WARNING - /Users/joshua/projects/fyp/streamsightv2/venv/lib/python3.12/site-packages/tqdm/auto.py:21: TqdmWarning: IProgress not found. Please update jupyter and ipywidgets. See https://ipywidgets.readthedocs.io/en/stable/user_install.html\n",
      "  from .autonotebook import tqdm as notebook_tqdm\n",
      "\n",
      "DEBUG - TestDataset being initialized with 'data' as the base path.\n",
      "DEBUG - TestDataset is initialized.\n",
      "INFO - TestDataset is loading dataset...\n",
      "DEBUG - TestDataset applying filters set.\n",
      "DEBUG - \tinteractions before preprocess: 13\n",
      "DEBUG - \titems before preprocess: 3\n",
      "DEBUG - \tusers before preprocess: 5\n",
      "DEBUG - \tinteractions after preprocess: 13\n",
      "DEBUG - \titems after preprocess: 3\n",
      "DEBUG - \tusers after preprocess: 5\n",
      "INFO - TestDataset dataset loaded - Took 0.0277s\n",
      "DEBUG - Splitting data...\n",
      "DEBUG - Performing lt(t, 2147483647)\n",
      "DEBUG - Performing lt(t, 4)\n",
      "DEBUG - Performing ge(t, 4)\n",
      "DEBUG - TimestampSplitter(t=4,t_lower=None,t_upper=None) has complete split\n"
     ]
    },
    {
     "name": "stderr",
     "output_type": "stream",
     "text": [
      "  0%|          | 0/2 [00:00<?, ?it/s]"
     ]
    },
    {
     "name": "stdout",
     "output_type": "stream",
     "text": [
      "DEBUG - NPastInteractionTimestampSplitter(t=4,t_lower=None,t_upper=3,n_seq_data=0,include_all_past_data=False) - Updating split point to t=4\n",
      "DEBUG - Performing lt(t, 7)\n",
      "DEBUG - Performing ge(t, 4)\n",
      "DEBUG - Performing get_user_n_last_interaction comparison\n",
      "DEBUG - NPastInteractionTimestampSplitter(t=4,t_lower=None,t_upper=3,n_seq_data=0,include_all_past_data=False) has complete split\n",
      "INFO - Split at time 4 resulted in empty unlabelled testing samples.\n",
      "DEBUG - NPastInteractionTimestampSplitter(t=4,t_lower=None,t_upper=3,n_seq_data=0,include_all_past_data=False) - Updating split point to t=7\n",
      "DEBUG - Performing lt(t, 10)\n",
      "DEBUG - Performing ge(t, 7)\n",
      "DEBUG - Performing get_user_n_last_interaction comparison\n",
      "DEBUG - NPastInteractionTimestampSplitter(t=7,t_lower=None,t_upper=3,n_seq_data=0,include_all_past_data=False) has complete split\n",
      "INFO - Split at time 7 resulted in empty unlabelled testing samples.\n",
      "DEBUG - NPastInteractionTimestampSplitter(t=7,t_lower=None,t_upper=3,n_seq_data=0,include_all_past_data=False) - Updating split point to t=10\n",
      "DEBUG - Performing lt(t, 13)\n",
      "DEBUG - Performing ge(t, 10)\n",
      "DEBUG - Performing get_user_n_last_interaction comparison\n",
      "DEBUG - NPastInteractionTimestampSplitter(t=10,t_lower=None,t_upper=3,n_seq_data=0,include_all_past_data=False) has complete split\n",
      "INFO - Split at time 10 resulted in empty unlabelled testing samples.\n"
     ]
    },
    {
     "name": "stderr",
     "output_type": "stream",
     "text": [
      "3it [00:00, 62.45it/s]               "
     ]
    },
    {
     "name": "stdout",
     "output_type": "stream",
     "text": [
      "INFO - Finished split with window size 3 seconds. Number of splits: 3 in total.\n",
      "INFO - SlidingWindowSetting data split - Took 0.0801s\n",
      "DEBUG - Checking split attribute and sizes.\n",
      "DEBUG - Checking split attributes.\n",
      "DEBUG - Split attributes are set.\n",
      "DEBUG - Checking size of split sets.\n",
      "DEBUG - Size of split sets are checked.\n",
      "INFO - SlidingWindowSetting data split complete.\n"
     ]
    },
    {
     "name": "stderr",
     "output_type": "stream",
     "text": [
      "\n"
     ]
    }
   ],
   "source": [
    "k = 2\n",
    "from streamsightv2.datasets import TestDataset\n",
    "from streamsightv2.settings import SlidingWindowSetting\n",
    "dataset = TestDataset()\n",
    "data = dataset.load()\n",
    "setting_window = SlidingWindowSetting(\n",
    "    4,\n",
    "    3,\n",
    "    0,\n",
    "    k\n",
    ")\n",
    "setting_window.split(data)"
   ]
  },
  {
   "cell_type": "code",
   "execution_count": null,
   "metadata": {},
   "outputs": [],
   "source": [
    "from streamsightv2.evaluators import EvaluatorStreamerBuilder\n",
    "\n",
    "builder = EvaluatorStreamerBuilder()\n",
    "builder.add_setting(setting_window)\n",
    "builder.set_metric_K(k)\n",
    "# builder.add_metric(\"PrecisionK\")\n",
    "builder.add_metric(\"RecallK\")\n",
    "evaluator = builder.build()"
   ]
  },
  {
   "cell_type": "code",
   "execution_count": null,
   "metadata": {},
   "outputs": [
    {
     "name": "stdout",
     "output_type": "stream",
     "text": [
      "INFO - Registering algorithm name my own algo with ID: bdd640fb-0667-4ad1-9c80-317fa3b1799d\n",
      "DEBUG - Algorithm bdd640fb-0667-4ad1-9c80-317fa3b1799d registered\n",
      "bdd640fb-0667-4ad1-9c80-317fa3b1799d\n"
     ]
    }
   ],
   "source": [
    "from streamsightv2.algorithms import RecentPopularity\n",
    "# from recpack.algorithms import Popularity\n",
    "external_model = RecentPopularity(K=2)\n",
    "# external_model = ItemKNNIncremental(K=10)\n",
    "external_model_id = evaluator.register_algorithm(algorithm_name=\"my own algo\")\n",
    "print(external_model_id)"
   ]
  },
  {
   "cell_type": "code",
   "execution_count": 4,
   "metadata": {},
   "outputs": [
    {
     "name": "stdout",
     "output_type": "stream",
     "text": [
      "DEBUG - Resetting data generators.\n",
      "DEBUG - Data generators are reset.\n",
      "DEBUG - Preparing evaluator for streaming\n",
      "DEBUG - (user x item) shape defined is (3, 3)\n",
      "DEBUG - Shape of dataframe stored in matrix was (4, 5) before masking\n",
      "DEBUG - Shape of dataframe stored in matrix is now (4, 5) after masking\n",
      "DEBUG - Final (user x item) shape defined is (3, 3)\n",
      "DEBUG - Caching evaluation data for step 1\n",
      "DEBUG - (user x item) shape defined is (3, 3)\n",
      "DEBUG - Shape of dataframe stored in matrix was (3, 5) before masking\n",
      "DEBUG - Shape of dataframe stored in matrix is now (3, 5) after masking\n",
      "DEBUG - Final (user x item) shape defined is (3, 3)\n",
      "DEBUG - (user x item) shape defined is (3, 3)\n",
      "DEBUG - Shape of dataframe stored in matrix was (3, 5) before masking\n",
      "DEBUG - Shape of dataframe stored in matrix is now (3, 5) after masking\n",
      "DEBUG - Final (user x item) shape defined is (4, 3)\n",
      "DEBUG - Data cached for step 1 complete\n"
     ]
    }
   ],
   "source": [
    "evaluator.start_stream()"
   ]
  },
  {
   "cell_type": "markdown",
   "metadata": {},
   "source": [
    "# Iteration 1"
   ]
  },
  {
   "cell_type": "code",
   "execution_count": 5,
   "metadata": {},
   "outputs": [
    {
     "name": "stdout",
     "output_type": "stream",
     "text": [
      "DEBUG - Getting data for algorithm bdd640fb-0667-4ad1-9c80-317fa3b1799d\n",
      "X_transformed:  [[1 0 1]\n",
      " [1 0 0]\n",
      " [0 1 0]]\n",
      "Sorted scores recentpop:  [1.  0.  0.5]\n",
      "DEBUG - Fitting RecentPopularity complete - Took 0.00493s\n"
     ]
    },
    {
     "data": {
      "text/plain": [
       "   interactionid  uid  iid  ts  rating\n",
       "0              0    0    0   0       1\n",
       "1              1    1    0   1       2\n",
       "2              2    2    1   2       3\n",
       "3              3    0    2   3       4"
      ]
     },
     "execution_count": 5,
     "metadata": {},
     "output_type": "execute_result"
    }
   ],
   "source": [
    "data = evaluator.get_data(external_model_id)\n",
    "external_model.fit(data)\n",
    "data"
   ]
  },
  {
   "cell_type": "code",
   "execution_count": 6,
   "metadata": {},
   "outputs": [
    {
     "name": "stdout",
     "output_type": "stream",
     "text": [
      "DEBUG - Getting unlabeled data for algorithm bdd640fb-0667-4ad1-9c80-317fa3b1799d\n",
      "DEBUG - Performing items_in comparison\n",
      "Users:  [1, 3]\n",
      "Known item id:  3\n",
      "Max user id:  4\n",
      "Intended shape:  (4, 3)\n",
      "X_pred:  [[0. 0. 0.]\n",
      " [0. 0. 0.]\n",
      " [0. 0. 0.]\n",
      " [0. 0. 0.]]\n",
      "X_pred after:  [[0.  0.  0. ]\n",
      " [1.  0.  0.5]\n",
      " [0.  0.  0. ]\n",
      " [1.  0.  0.5]]\n"
     ]
    },
    {
     "data": {
      "text/plain": [
       "   interactionid  uid  iid  ts  rating\n",
       "4              4    1   -1   4       5\n",
       "5              5    1   -1   5       1\n",
       "6              6    3   -1   6       2"
      ]
     },
     "execution_count": 6,
     "metadata": {},
     "output_type": "execute_result"
    }
   ],
   "source": [
    "ul_data = evaluator.get_unlabeled_data(external_model_id)\n",
    "prediction = external_model.predict(data, ul_data)\n",
    "ul_data"
   ]
  },
  {
   "cell_type": "code",
   "execution_count": 7,
   "metadata": {},
   "outputs": [
    {
     "name": "stdout",
     "output_type": "stream",
     "text": [
      "<Compressed Sparse Row sparse matrix of dtype 'float64'\n",
      "\twith 4 stored elements and shape (4, 3)>\n",
      "  Coords\tValues\n",
      "  (1, 0)\t1.0\n",
      "  (1, 2)\t0.5\n",
      "  (3, 0)\t1.0\n",
      "  (3, 2)\t0.5\n",
      "[[0.  0.  0. ]\n",
      " [1.  0.  0.5]\n",
      " [0.  0.  0. ]\n",
      " [1.  0.  0.5]]\n",
      "DEBUG - Submitting prediction for algorithm bdd640fb-0667-4ad1-9c80-317fa3b1799d\n",
      "DEBUG - Precision compute started - RecallK_2\n",
      "DEBUG - Number of users: 2\n",
      "DEBUG - Number of ground truth interactions: 3\n",
      "DEBUG - Recall compute complete - RecallK_2\n",
      "DEBUG - Metric RecallK(timestamp_limit=4,K=2) created for algorithm my own algo_bdd640fb-0667-4ad1-9c80-317fa3b1799d\n",
      "DEBUG - Prediction evaluated for algorithm bdd640fb-0667-4ad1-9c80-317fa3b1799d complete\n"
     ]
    }
   ],
   "source": [
    "print(prediction)\n",
    "print(prediction.toarray())\n",
    "evaluator.submit_prediction(external_model_id, prediction)"
   ]
  },
  {
   "cell_type": "markdown",
   "metadata": {},
   "source": [
    "# Iteration 2"
   ]
  },
  {
   "cell_type": "code",
   "execution_count": 8,
   "metadata": {},
   "outputs": [
    {
     "name": "stdout",
     "output_type": "stream",
     "text": [
      "DEBUG - Getting data for algorithm bdd640fb-0667-4ad1-9c80-317fa3b1799d\n",
      "DEBUG - (user x item) shape defined is (4, 3)\n",
      "DEBUG - Shape of dataframe stored in matrix was (3, 5) before masking\n",
      "DEBUG - Shape of dataframe stored in matrix is now (3, 5) after masking\n",
      "DEBUG - Final (user x item) shape defined is (4, 3)\n",
      "DEBUG - Caching evaluation data for step 2\n",
      "DEBUG - (user x item) shape defined is (4, 3)\n",
      "DEBUG - Shape of dataframe stored in matrix was (4, 5) before masking\n",
      "DEBUG - Shape of dataframe stored in matrix is now (4, 5) after masking\n",
      "DEBUG - Final (user x item) shape defined is (4, 3)\n",
      "DEBUG - (user x item) shape defined is (4, 3)\n",
      "DEBUG - Shape of dataframe stored in matrix was (4, 5) before masking\n",
      "DEBUG - Shape of dataframe stored in matrix is now (4, 5) after masking\n",
      "DEBUG - Final (user x item) shape defined is (5, 3)\n",
      "DEBUG - Data cached for step 2 complete\n",
      "X_transformed:  [[0 0 0]\n",
      " [0 1 1]\n",
      " [0 0 0]\n",
      " [0 1 0]]\n",
      "Sorted scores recentpop:  [0.  1.  0.5]\n",
      "DEBUG - Fitting RecentPopularity complete - Took 0.000848s\n"
     ]
    },
    {
     "data": {
      "text/plain": [
       "   interactionid  uid  iid  ts  rating\n",
       "4              4    1    1   4       5\n",
       "5              5    1    2   5       1\n",
       "6              6    3    1   6       2"
      ]
     },
     "execution_count": 8,
     "metadata": {},
     "output_type": "execute_result"
    }
   ],
   "source": [
    "data = evaluator.get_data(external_model_id)\n",
    "external_model.fit(data)\n",
    "data"
   ]
  },
  {
   "cell_type": "code",
   "execution_count": 9,
   "metadata": {},
   "outputs": [
    {
     "name": "stdout",
     "output_type": "stream",
     "text": [
      "DEBUG - Getting unlabeled data for algorithm bdd640fb-0667-4ad1-9c80-317fa3b1799d\n",
      "DEBUG - Performing items_in comparison\n",
      "Users:  [2, 3, 4]\n",
      "Known item id:  3\n",
      "Max user id:  5\n",
      "Intended shape:  (5, 3)\n",
      "X_pred:  [[0. 0. 0.]\n",
      " [0. 0. 0.]\n",
      " [0. 0. 0.]\n",
      " [0. 0. 0.]\n",
      " [0. 0. 0.]]\n",
      "X_pred after:  [[0.  0.  0. ]\n",
      " [0.  0.  0. ]\n",
      " [0.  1.  0.5]\n",
      " [0.  1.  0.5]\n",
      " [0.  1.  0.5]]\n"
     ]
    },
    {
     "data": {
      "text/plain": [
       "    interactionid  uid  iid  ts  rating\n",
       "7               7    2   -1   7       3\n",
       "8               8    2   -1   8       4\n",
       "9               9    3   -1   9       5\n",
       "10             10    4   -1   9       1"
      ]
     },
     "execution_count": 9,
     "metadata": {},
     "output_type": "execute_result"
    }
   ],
   "source": [
    "ul_data = evaluator.get_unlabeled_data(external_model_id)\n",
    "prediction = external_model.predict(data, ul_data)\n",
    "ul_data"
   ]
  },
  {
   "cell_type": "code",
   "execution_count": 10,
   "metadata": {},
   "outputs": [
    {
     "name": "stdout",
     "output_type": "stream",
     "text": [
      "<Compressed Sparse Row sparse matrix of dtype 'float64'\n",
      "\twith 6 stored elements and shape (5, 3)>\n",
      "  Coords\tValues\n",
      "  (2, 1)\t1.0\n",
      "  (2, 2)\t0.5\n",
      "  (3, 1)\t1.0\n",
      "  (3, 2)\t0.5\n",
      "  (4, 1)\t1.0\n",
      "  (4, 2)\t0.5\n",
      "[[0.  0.  0. ]\n",
      " [0.  0.  0. ]\n",
      " [0.  1.  0.5]\n",
      " [0.  1.  0.5]\n",
      " [0.  1.  0.5]]\n",
      "DEBUG - Submitting prediction for algorithm bdd640fb-0667-4ad1-9c80-317fa3b1799d\n",
      "DEBUG - Precision compute started - RecallK_2\n",
      "DEBUG - Number of users: 3\n",
      "DEBUG - Number of ground truth interactions: 4\n",
      "DEBUG - Recall compute complete - RecallK_2\n",
      "DEBUG - Metric RecallK(timestamp_limit=7,K=2) created for algorithm my own algo_bdd640fb-0667-4ad1-9c80-317fa3b1799d\n",
      "DEBUG - Prediction evaluated for algorithm bdd640fb-0667-4ad1-9c80-317fa3b1799d complete\n"
     ]
    }
   ],
   "source": [
    "print(prediction)\n",
    "print(prediction.toarray())\n",
    "evaluator.submit_prediction(external_model_id, prediction)"
   ]
  },
  {
   "cell_type": "markdown",
   "metadata": {},
   "source": [
    "# Iteration 3"
   ]
  },
  {
   "cell_type": "code",
   "execution_count": 11,
   "metadata": {},
   "outputs": [
    {
     "name": "stdout",
     "output_type": "stream",
     "text": [
      "DEBUG - Getting data for algorithm bdd640fb-0667-4ad1-9c80-317fa3b1799d\n",
      "DEBUG - (user x item) shape defined is (5, 3)\n",
      "DEBUG - Shape of dataframe stored in matrix was (4, 5) before masking\n",
      "DEBUG - Shape of dataframe stored in matrix is now (4, 5) after masking\n",
      "DEBUG - Final (user x item) shape defined is (5, 3)\n",
      "DEBUG - Caching evaluation data for step 3\n",
      "DEBUG - (user x item) shape defined is (5, 3)\n",
      "DEBUG - Shape of dataframe stored in matrix was (2, 5) before masking\n",
      "DEBUG - Shape of dataframe stored in matrix is now (2, 5) after masking\n",
      "DEBUG - Final (user x item) shape defined is (5, 3)\n",
      "DEBUG - (user x item) shape defined is (5, 3)\n",
      "DEBUG - Shape of dataframe stored in matrix was (2, 5) before masking\n",
      "DEBUG - Shape of dataframe stored in matrix is now (2, 5) after masking\n",
      "DEBUG - Final (user x item) shape defined is (5, 3)\n",
      "DEBUG - Data cached for step 3 complete\n",
      "X_transformed:  [[0 0 0]\n",
      " [0 0 0]\n",
      " [1 0 1]\n",
      " [0 0 1]\n",
      " [1 0 0]]\n",
      "Sorted scores recentpop:  [1. 0. 1.]\n",
      "DEBUG - Fitting RecentPopularity complete - Took 0.00423s\n"
     ]
    },
    {
     "data": {
      "text/plain": [
       "    interactionid  uid  iid  ts  rating\n",
       "7               7    2    0   7       3\n",
       "8               8    2    2   8       4\n",
       "9               9    3    2   9       5\n",
       "10             10    4    0   9       1"
      ]
     },
     "execution_count": 11,
     "metadata": {},
     "output_type": "execute_result"
    }
   ],
   "source": [
    "data = evaluator.get_data(external_model_id)\n",
    "external_model.fit(data)\n",
    "data"
   ]
  },
  {
   "cell_type": "code",
   "execution_count": 12,
   "metadata": {},
   "outputs": [
    {
     "name": "stdout",
     "output_type": "stream",
     "text": [
      "DEBUG - Getting unlabeled data for algorithm bdd640fb-0667-4ad1-9c80-317fa3b1799d\n",
      "DEBUG - Performing items_in comparison\n",
      "Users:  [4]\n",
      "Known item id:  3\n",
      "Max user id:  5\n",
      "Intended shape:  (5, 3)\n",
      "X_pred:  [[0. 0. 0.]\n",
      " [0. 0. 0.]\n",
      " [0. 0. 0.]\n",
      " [0. 0. 0.]\n",
      " [0. 0. 0.]]\n",
      "X_pred after:  [[0. 0. 0.]\n",
      " [0. 0. 0.]\n",
      " [0. 0. 0.]\n",
      " [0. 0. 0.]\n",
      " [1. 0. 1.]]\n"
     ]
    },
    {
     "data": {
      "text/plain": [
       "    interactionid  uid  iid  ts  rating\n",
       "11             11    4   -1  10       2\n",
       "12             12    4   -1  10       3"
      ]
     },
     "execution_count": 12,
     "metadata": {},
     "output_type": "execute_result"
    }
   ],
   "source": [
    "ul_data = evaluator.get_unlabeled_data(external_model_id)\n",
    "prediction = external_model.predict(data, ul_data)\n",
    "ul_data"
   ]
  },
  {
   "cell_type": "code",
   "execution_count": 13,
   "metadata": {},
   "outputs": [
    {
     "name": "stdout",
     "output_type": "stream",
     "text": [
      "<Compressed Sparse Row sparse matrix of dtype 'float64'\n",
      "\twith 2 stored elements and shape (5, 3)>\n",
      "  Coords\tValues\n",
      "  (4, 0)\t1.0\n",
      "  (4, 2)\t1.0\n",
      "[[0. 0. 0.]\n",
      " [0. 0. 0.]\n",
      " [0. 0. 0.]\n",
      " [0. 0. 0.]\n",
      " [1. 0. 1.]]\n",
      "DEBUG - Submitting prediction for algorithm bdd640fb-0667-4ad1-9c80-317fa3b1799d\n",
      "DEBUG - Precision compute started - RecallK_2\n",
      "DEBUG - Number of users: 1\n",
      "DEBUG - Number of ground truth interactions: 2\n",
      "DEBUG - Recall compute complete - RecallK_2\n",
      "DEBUG - Metric RecallK(timestamp_limit=10,K=2) created for algorithm my own algo_bdd640fb-0667-4ad1-9c80-317fa3b1799d\n",
      "DEBUG - Prediction evaluated for algorithm bdd640fb-0667-4ad1-9c80-317fa3b1799d complete\n",
      "INFO - Finished streaming\n",
      "WARNING - /Users/joshua/projects/fyp/streamsightv2/venv/lib/python3.12/site-packages/streamsight/evaluators/evaluator_stream.py:379: AlgorithmStatusWarning: Algorithm:bdd640fb-0667-4ad1-9c80-317fa3b1799d current status is READY. Algorithm has completed stream evaluation. No more data release available.\n",
      "  warn(AlgorithmStatusWarning(algo_id, status, \"complete\"))\n",
      "\n"
     ]
    }
   ],
   "source": [
    "print(prediction)\n",
    "print(prediction.toarray())\n",
    "evaluator.submit_prediction(external_model_id, prediction)"
   ]
  },
  {
   "cell_type": "markdown",
   "metadata": {},
   "source": [
    "# evaluate metrics"
   ]
  },
  {
   "cell_type": "code",
   "execution_count": 14,
   "metadata": {},
   "outputs": [
    {
     "data": {
      "text/plain": [
       "{'my own algo_bdd640fb-0667-4ad1-9c80-317fa3b1799d': <AlgorithmStateEnum.COMPLETED: 'COMPLETED'>}"
      ]
     },
     "execution_count": 14,
     "metadata": {},
     "output_type": "execute_result"
    }
   ],
   "source": [
    "evaluator.get_all_algorithm_status()"
   ]
  },
  {
   "cell_type": "code",
   "execution_count": 15,
   "metadata": {},
   "outputs": [
    {
     "data": {
      "text/html": [
       "<div>\n",
       "<style scoped>\n",
       "    .dataframe tbody tr th:only-of-type {\n",
       "        vertical-align: middle;\n",
       "    }\n",
       "\n",
       "    .dataframe tbody tr th {\n",
       "        vertical-align: top;\n",
       "    }\n",
       "\n",
       "    .dataframe thead th {\n",
       "        text-align: right;\n",
       "    }\n",
       "</style>\n",
       "<table border=\"1\" class=\"dataframe\">\n",
       "  <thead>\n",
       "    <tr style=\"text-align: right;\">\n",
       "      <th></th>\n",
       "      <th></th>\n",
       "      <th>macro_score</th>\n",
       "      <th>num_window</th>\n",
       "    </tr>\n",
       "    <tr>\n",
       "      <th>Algorithm</th>\n",
       "      <th>Metric</th>\n",
       "      <th></th>\n",
       "      <th></th>\n",
       "    </tr>\n",
       "  </thead>\n",
       "  <tbody>\n",
       "    <tr>\n",
       "      <th>my own algo_bdd640fb-0667-4ad1-9c80-317fa3b1799d</th>\n",
       "      <th>RecallK_2</th>\n",
       "      <td>0.416667</td>\n",
       "      <td>3</td>\n",
       "    </tr>\n",
       "  </tbody>\n",
       "</table>\n",
       "</div>"
      ],
      "text/plain": [
       "                                                            macro_score  \\\n",
       "Algorithm                                        Metric                   \n",
       "my own algo_bdd640fb-0667-4ad1-9c80-317fa3b1799d RecallK_2     0.416667   \n",
       "\n",
       "                                                            num_window  \n",
       "Algorithm                                        Metric                 \n",
       "my own algo_bdd640fb-0667-4ad1-9c80-317fa3b1799d RecallK_2           3  "
      ]
     },
     "execution_count": 15,
     "metadata": {},
     "output_type": "execute_result"
    }
   ],
   "source": [
    "evaluator.metric_results(\"macro\")"
   ]
  },
  {
   "cell_type": "code",
   "execution_count": 16,
   "metadata": {},
   "outputs": [
    {
     "data": {
      "text/html": [
       "<div>\n",
       "<style scoped>\n",
       "    .dataframe tbody tr th:only-of-type {\n",
       "        vertical-align: middle;\n",
       "    }\n",
       "\n",
       "    .dataframe tbody tr th {\n",
       "        vertical-align: top;\n",
       "    }\n",
       "\n",
       "    .dataframe thead th {\n",
       "        text-align: right;\n",
       "    }\n",
       "</style>\n",
       "<table border=\"1\" class=\"dataframe\">\n",
       "  <thead>\n",
       "    <tr style=\"text-align: right;\">\n",
       "      <th></th>\n",
       "      <th></th>\n",
       "      <th>micro_score</th>\n",
       "      <th>num_user</th>\n",
       "    </tr>\n",
       "    <tr>\n",
       "      <th>Algorithm</th>\n",
       "      <th>Metric</th>\n",
       "      <th></th>\n",
       "      <th></th>\n",
       "    </tr>\n",
       "  </thead>\n",
       "  <tbody>\n",
       "    <tr>\n",
       "      <th>my own algo_bdd640fb-0667-4ad1-9c80-317fa3b1799d</th>\n",
       "      <th>RecallK_2</th>\n",
       "      <td>0.416667</td>\n",
       "      <td>6</td>\n",
       "    </tr>\n",
       "  </tbody>\n",
       "</table>\n",
       "</div>"
      ],
      "text/plain": [
       "                                                           micro_score  \\\n",
       "Algorithm                                        Metric                  \n",
       "my own algo_bdd640fb-0667-4ad1-9c80-317fa3b1799d RecallK_2    0.416667   \n",
       "\n",
       "                                                            num_user  \n",
       "Algorithm                                        Metric               \n",
       "my own algo_bdd640fb-0667-4ad1-9c80-317fa3b1799d RecallK_2         6  "
      ]
     },
     "execution_count": 16,
     "metadata": {},
     "output_type": "execute_result"
    }
   ],
   "source": [
    "evaluator.metric_results(\"micro\")\n"
   ]
  },
  {
   "cell_type": "code",
   "execution_count": 18,
   "metadata": {},
   "outputs": [
    {
     "data": {
      "text/html": [
       "<div>\n",
       "<style scoped>\n",
       "    .dataframe tbody tr th:only-of-type {\n",
       "        vertical-align: middle;\n",
       "    }\n",
       "\n",
       "    .dataframe tbody tr th {\n",
       "        vertical-align: top;\n",
       "    }\n",
       "\n",
       "    .dataframe thead th {\n",
       "        text-align: right;\n",
       "    }\n",
       "</style>\n",
       "<table border=\"1\" class=\"dataframe\">\n",
       "  <thead>\n",
       "    <tr style=\"text-align: right;\">\n",
       "      <th></th>\n",
       "      <th></th>\n",
       "      <th></th>\n",
       "      <th>user_id</th>\n",
       "      <th>score</th>\n",
       "    </tr>\n",
       "    <tr>\n",
       "      <th>Algorithm</th>\n",
       "      <th>Timestamp</th>\n",
       "      <th>Metric</th>\n",
       "      <th></th>\n",
       "      <th></th>\n",
       "    </tr>\n",
       "  </thead>\n",
       "  <tbody>\n",
       "    <tr>\n",
       "      <th rowspan=\"6\" valign=\"top\">my own algo_bdd640fb-0667-4ad1-9c80-317fa3b1799d</th>\n",
       "      <th rowspan=\"2\" valign=\"top\">t=4</th>\n",
       "      <th>RecallK_2</th>\n",
       "      <td>1</td>\n",
       "      <td>0.5</td>\n",
       "    </tr>\n",
       "    <tr>\n",
       "      <th>RecallK_2</th>\n",
       "      <td>3</td>\n",
       "      <td>0.0</td>\n",
       "    </tr>\n",
       "    <tr>\n",
       "      <th rowspan=\"3\" valign=\"top\">t=7</th>\n",
       "      <th>RecallK_2</th>\n",
       "      <td>2</td>\n",
       "      <td>0.5</td>\n",
       "    </tr>\n",
       "    <tr>\n",
       "      <th>RecallK_2</th>\n",
       "      <td>3</td>\n",
       "      <td>1.0</td>\n",
       "    </tr>\n",
       "    <tr>\n",
       "      <th>RecallK_2</th>\n",
       "      <td>4</td>\n",
       "      <td>0.0</td>\n",
       "    </tr>\n",
       "    <tr>\n",
       "      <th>t=10</th>\n",
       "      <th>RecallK_2</th>\n",
       "      <td>4</td>\n",
       "      <td>0.5</td>\n",
       "    </tr>\n",
       "  </tbody>\n",
       "</table>\n",
       "</div>"
      ],
      "text/plain": [
       "                                                                     user_id  \\\n",
       "Algorithm                                        Timestamp Metric              \n",
       "my own algo_bdd640fb-0667-4ad1-9c80-317fa3b1799d t=4       RecallK_2       1   \n",
       "                                                           RecallK_2       3   \n",
       "                                                 t=7       RecallK_2       2   \n",
       "                                                           RecallK_2       3   \n",
       "                                                           RecallK_2       4   \n",
       "                                                 t=10      RecallK_2       4   \n",
       "\n",
       "                                                                     score  \n",
       "Algorithm                                        Timestamp Metric           \n",
       "my own algo_bdd640fb-0667-4ad1-9c80-317fa3b1799d t=4       RecallK_2   0.5  \n",
       "                                                           RecallK_2   0.0  \n",
       "                                                 t=7       RecallK_2   0.5  \n",
       "                                                           RecallK_2   1.0  \n",
       "                                                           RecallK_2   0.0  \n",
       "                                                 t=10      RecallK_2   0.5  "
      ]
     },
     "execution_count": 18,
     "metadata": {},
     "output_type": "execute_result"
    }
   ],
   "source": [
    "evaluator.metric_results(\"user\")"
   ]
  },
  {
   "cell_type": "code",
   "execution_count": 19,
   "metadata": {},
   "outputs": [
    {
     "data": {
      "text/html": [
       "<div>\n",
       "<style scoped>\n",
       "    .dataframe tbody tr th:only-of-type {\n",
       "        vertical-align: middle;\n",
       "    }\n",
       "\n",
       "    .dataframe tbody tr th {\n",
       "        vertical-align: top;\n",
       "    }\n",
       "\n",
       "    .dataframe thead th {\n",
       "        text-align: right;\n",
       "    }\n",
       "</style>\n",
       "<table border=\"1\" class=\"dataframe\">\n",
       "  <thead>\n",
       "    <tr style=\"text-align: right;\">\n",
       "      <th></th>\n",
       "      <th></th>\n",
       "      <th></th>\n",
       "      <th>window_score</th>\n",
       "      <th>num_user</th>\n",
       "    </tr>\n",
       "    <tr>\n",
       "      <th>Algorithm</th>\n",
       "      <th>Timestamp</th>\n",
       "      <th>Metric</th>\n",
       "      <th></th>\n",
       "      <th></th>\n",
       "    </tr>\n",
       "  </thead>\n",
       "  <tbody>\n",
       "    <tr>\n",
       "      <th rowspan=\"3\" valign=\"top\">my own algo_bdd640fb-0667-4ad1-9c80-317fa3b1799d</th>\n",
       "      <th>t=4</th>\n",
       "      <th>RecallK_2</th>\n",
       "      <td>0.25</td>\n",
       "      <td>2</td>\n",
       "    </tr>\n",
       "    <tr>\n",
       "      <th>t=7</th>\n",
       "      <th>RecallK_2</th>\n",
       "      <td>0.50</td>\n",
       "      <td>3</td>\n",
       "    </tr>\n",
       "    <tr>\n",
       "      <th>t=10</th>\n",
       "      <th>RecallK_2</th>\n",
       "      <td>0.50</td>\n",
       "      <td>1</td>\n",
       "    </tr>\n",
       "  </tbody>\n",
       "</table>\n",
       "</div>"
      ],
      "text/plain": [
       "                                                                      window_score  \\\n",
       "Algorithm                                        Timestamp Metric                    \n",
       "my own algo_bdd640fb-0667-4ad1-9c80-317fa3b1799d t=4       RecallK_2          0.25   \n",
       "                                                 t=7       RecallK_2          0.50   \n",
       "                                                 t=10      RecallK_2          0.50   \n",
       "\n",
       "                                                                      num_user  \n",
       "Algorithm                                        Timestamp Metric               \n",
       "my own algo_bdd640fb-0667-4ad1-9c80-317fa3b1799d t=4       RecallK_2         2  \n",
       "                                                 t=7       RecallK_2         3  \n",
       "                                                 t=10      RecallK_2         1  "
      ]
     },
     "execution_count": 19,
     "metadata": {},
     "output_type": "execute_result"
    }
   ],
   "source": [
    "evaluator.metric_results(\"window\")"
   ]
  }
 ],
 "metadata": {
  "kernelspec": {
   "display_name": "venv",
   "language": "python",
   "name": "python3"
  },
  "language_info": {
   "codemirror_mode": {
    "name": "ipython",
    "version": 3
   },
   "file_extension": ".py",
   "mimetype": "text/x-python",
   "name": "python",
   "nbconvert_exporter": "python",
   "pygments_lexer": "ipython3",
   "version": "3.12.5"
  }
 },
 "nbformat": 4,
 "nbformat_minor": 2
}
