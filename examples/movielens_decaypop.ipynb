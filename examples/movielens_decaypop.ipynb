{
 "cells": [
  {
   "cell_type": "markdown",
   "metadata": {},
   "source": [
    "# MovieLens DecayPopularity Algorithm"
   ]
  },
  {
   "cell_type": "code",
   "execution_count": 1,
   "metadata": {},
   "outputs": [
    {
     "name": "stdout",
     "output_type": "stream",
     "text": [
      "INFO - streamsight package loaded.\n",
      "WARNING - /Users/joshua/projects/fyp/streamsightv2/venv/lib/python3.12/site-packages/tqdm/auto.py:21: TqdmWarning: IProgress not found. Please update jupyter and ipywidgets. See https://ipywidgets.readthedocs.io/en/stable/user_install.html\n",
      "  from .autonotebook import tqdm as notebook_tqdm\n",
      "\n",
      "DEBUG - MovieLens100K being initialized with 'data' as the base path.\n",
      "DEBUG - MovieLens100K is initialized.\n",
      "INFO - MovieLens100K is loading dataset...\n",
      "DEBUG - Data file is in memory and in dir specified.\n",
      "DEBUG - MovieLens100K applying filters set.\n",
      "DEBUG - \tinteractions before preprocess: 100000\n",
      "DEBUG - \titems before preprocess: 1682\n",
      "DEBUG - \tusers before preprocess: 943\n",
      "DEBUG - \tinteractions after preprocess: 100000\n",
      "DEBUG - \titems after preprocess: 1682\n",
      "DEBUG - \tusers after preprocess: 943\n",
      "INFO - MovieLens100K dataset loaded - Took 0.0674s\n",
      "DEBUG - Splitting data...\n",
      "DEBUG - Performing lt(t, 2147483647)\n",
      "DEBUG - Performing lt(t, 880606923)\n",
      "DEBUG - Performing ge(t, 880606923)\n",
      "DEBUG - TimestampSplitter(t=880606923,t_lower=None,t_upper=None) has complete split\n"
     ]
    },
    {
     "name": "stderr",
     "output_type": "stream",
     "text": [
      "  0%|          | 0/4 [00:00<?, ?it/s]"
     ]
    },
    {
     "name": "stdout",
     "output_type": "stream",
     "text": [
      "DEBUG - NPastInteractionTimestampSplitter(t=880606923,t_lower=None,t_upper=2592000,n_seq_data=10,include_all_past_data=False) - Updating split point to t=880606923\n",
      "DEBUG - Performing lt(t, 883198923)\n",
      "DEBUG - Performing ge(t, 880606923)\n",
      "DEBUG - Performing get_user_n_last_interaction comparison\n",
      "DEBUG - NPastInteractionTimestampSplitter(t=880606923,t_lower=None,t_upper=2592000,n_seq_data=10,include_all_past_data=False) has complete split\n",
      "DEBUG - NPastInteractionTimestampSplitter(t=880606923,t_lower=None,t_upper=2592000,n_seq_data=10,include_all_past_data=False) - Updating split point to t=883198923\n",
      "DEBUG - Performing lt(t, 885790923)\n",
      "DEBUG - Performing ge(t, 883198923)\n",
      "DEBUG - Performing get_user_n_last_interaction comparison\n",
      "DEBUG - NPastInteractionTimestampSplitter(t=883198923,t_lower=None,t_upper=2592000,n_seq_data=10,include_all_past_data=False) has complete split\n",
      "DEBUG - NPastInteractionTimestampSplitter(t=883198923,t_lower=None,t_upper=2592000,n_seq_data=10,include_all_past_data=False) - Updating split point to t=885790923\n",
      "DEBUG - Performing lt(t, 888382923)\n",
      "DEBUG - Performing ge(t, 885790923)\n",
      "DEBUG - Performing get_user_n_last_interaction comparison\n",
      "DEBUG - NPastInteractionTimestampSplitter(t=885790923,t_lower=None,t_upper=2592000,n_seq_data=10,include_all_past_data=False) has complete split\n",
      "DEBUG - NPastInteractionTimestampSplitter(t=885790923,t_lower=None,t_upper=2592000,n_seq_data=10,include_all_past_data=False) - Updating split point to t=888382923\n",
      "DEBUG - Performing lt(t, 890974923)\n",
      "DEBUG - Performing ge(t, 888382923)\n",
      "DEBUG - Performing get_user_n_last_interaction comparison\n",
      "DEBUG - NPastInteractionTimestampSplitter(t=888382923,t_lower=None,t_upper=2592000,n_seq_data=10,include_all_past_data=False) has complete split\n"
     ]
    },
    {
     "name": "stderr",
     "output_type": "stream",
     "text": [
      "100%|██████████| 4/4 [00:00<00:00, 37.37it/s]"
     ]
    },
    {
     "name": "stdout",
     "output_type": "stream",
     "text": [
      "DEBUG - NPastInteractionTimestampSplitter(t=888382923,t_lower=None,t_upper=2592000,n_seq_data=10,include_all_past_data=False) - Updating split point to t=890974923\n",
      "DEBUG - Performing lt(t, 893566923)\n",
      "DEBUG - Performing ge(t, 890974923)\n",
      "DEBUG - Performing get_user_n_last_interaction comparison\n",
      "DEBUG - NPastInteractionTimestampSplitter(t=890974923,t_lower=None,t_upper=2592000,n_seq_data=10,include_all_past_data=False) has complete split\n"
     ]
    },
    {
     "name": "stderr",
     "output_type": "stream",
     "text": [
      "5it [00:00, 36.39it/s]                       "
     ]
    },
    {
     "name": "stdout",
     "output_type": "stream",
     "text": [
      "INFO - Finished split with window size 2592000 seconds. Number of splits: 5 in total.\n",
      "INFO - SlidingWindowSetting data split - Took 0.177s\n",
      "DEBUG - Checking split attribute and sizes.\n",
      "DEBUG - Checking split attributes.\n",
      "DEBUG - Split attributes are set.\n",
      "DEBUG - Checking size of split sets.\n",
      "DEBUG - Size of split sets are checked.\n",
      "INFO - SlidingWindowSetting data split complete.\n"
     ]
    },
    {
     "name": "stderr",
     "output_type": "stream",
     "text": [
      "\n"
     ]
    }
   ],
   "source": [
    "k = 100\n",
    "from streamsight.datasets.movielens import MovieLens100K\n",
    "from streamsight.settings import SlidingWindowSetting\n",
    "dataset = MovieLens100K()\n",
    "data = dataset.load()\n",
    "\n",
    "setting_window = SlidingWindowSetting(\n",
    "    background_t=880606923,\n",
    "    window_size=60 * 60 * 24 * 30, # day times N\n",
    "    # n_seq_data=9999,\n",
    "    top_K=k\n",
    ")\n",
    "\n",
    "setting_window.split(data)"
   ]
  },
  {
   "cell_type": "code",
   "execution_count": 2,
   "metadata": {},
   "outputs": [],
   "source": [
    "from streamsight.evaluators import EvaluatorStreamerBuilder\n",
    "\n",
    "builder = EvaluatorStreamerBuilder()\n",
    "builder.add_setting(setting_window)\n",
    "builder.set_metric_K(k)\n",
    "# builder.add_metric(\"PrecisionK\")\n",
    "builder.add_metric(\"RecallK\")\n",
    "evaluator = builder.build()"
   ]
  },
  {
   "cell_type": "code",
   "execution_count": 3,
   "metadata": {},
   "outputs": [
    {
     "name": "stdout",
     "output_type": "stream",
     "text": [
      "INFO - Registering algorithm name decaypop with ID: bdd640fb-0667-4ad1-9c80-317fa3b1799d\n",
      "DEBUG - Algorithm bdd640fb-0667-4ad1-9c80-317fa3b1799d registered\n",
      "bdd640fb-0667-4ad1-9c80-317fa3b1799d\n"
     ]
    }
   ],
   "source": [
    "from streamsight.algorithms import DecayPopularity\n",
    "# from recpack.algorithms import Popularity\n",
    "external_model = DecayPopularity(K=k)\n",
    "# external_model = ItemKNNIncremental(K=10)\n",
    "external_model_id = evaluator.register_algorithm(algorithm_name=\"decaypop\")\n",
    "print(external_model_id)"
   ]
  },
  {
   "cell_type": "code",
   "execution_count": 4,
   "metadata": {},
   "outputs": [
    {
     "name": "stdout",
     "output_type": "stream",
     "text": [
      "DEBUG - Resetting data generators.\n",
      "DEBUG - Data generators are reset.\n",
      "DEBUG - Preparing evaluator for streaming\n",
      "DEBUG - (user x item) shape defined is (413, 1415)\n",
      "DEBUG - Shape of dataframe stored in matrix was (39235, 5) before masking\n",
      "DEBUG - Shape of dataframe stored in matrix is now (39235, 5) after masking\n",
      "DEBUG - Final (user x item) shape defined is (413, 1415)\n",
      "DEBUG - Caching evaluation data for step 1\n",
      "DEBUG - (user x item) shape defined is (413, 1415)\n",
      "DEBUG - Shape of dataframe stored in matrix was (8322, 5) before masking\n",
      "DEBUG - Shape of dataframe stored in matrix is now (8322, 5) after masking\n",
      "DEBUG - Final (user x item) shape defined is (413, 1415)\n",
      "DEBUG - (user x item) shape defined is (413, 1415)\n",
      "DEBUG - Shape of dataframe stored in matrix was (7584, 5) before masking\n",
      "DEBUG - Shape of dataframe stored in matrix is now (7500, 5) after masking\n",
      "DEBUG - Final (user x item) shape defined is (501, 1415)\n",
      "DEBUG - Data cached for step 1 complete\n"
     ]
    }
   ],
   "source": [
    "evaluator.start_stream()"
   ]
  },
  {
   "cell_type": "markdown",
   "metadata": {},
   "source": [
    "# Iteration 1"
   ]
  },
  {
   "cell_type": "code",
   "execution_count": 5,
   "metadata": {},
   "outputs": [
    {
     "name": "stdout",
     "output_type": "stream",
     "text": [
      "DEBUG - Getting data for algorithm bdd640fb-0667-4ad1-9c80-317fa3b1799d\n",
      "X_transformed:  [[1 1 1 ... 0 0 0]\n",
      " [0 0 1 ... 0 0 0]\n",
      " [0 0 0 ... 0 0 0]\n",
      " ...\n",
      " [1 1 1 ... 0 0 0]\n",
      " [0 1 0 ... 0 0 0]\n",
      " [1 0 0 ... 0 0 1]]\n",
      "DEBUG - Fitting DecayPopularity complete - Took 0.00584s\n"
     ]
    },
    {
     "data": {
      "text/plain": [
       "       interactionid  uid   iid         ts  rating\n",
       "0                  0    0     0  874724710     4.0\n",
       "1                  1    0     1  874724727     4.0\n",
       "2                  2    0     2  874724754     4.0\n",
       "3                  3    0     3  874724781     4.0\n",
       "4                  4    0     4  874724843     4.0\n",
       "...              ...  ...   ...        ...     ...\n",
       "39230          39230  412   556  880606760     4.0\n",
       "39231          39231  412  1012  880606818     2.0\n",
       "39232          39232  412    88  880606874     4.0\n",
       "39233          39233  412   317  880606874     1.0\n",
       "39234          39234  412    80  880606874     4.0\n",
       "\n",
       "[39235 rows x 5 columns]"
      ]
     },
     "execution_count": 5,
     "metadata": {},
     "output_type": "execute_result"
    }
   ],
   "source": [
    "data = evaluator.get_data(external_model_id)\n",
    "external_model.fit(data)\n",
    "data"
   ]
  },
  {
   "cell_type": "code",
   "execution_count": 6,
   "metadata": {},
   "outputs": [
    {
     "name": "stdout",
     "output_type": "stream",
     "text": [
      "DEBUG - Getting unlabeled data for algorithm bdd640fb-0667-4ad1-9c80-317fa3b1799d\n",
      "DEBUG - Performing items_in comparison\n",
      "Users:  [412, 70, 354, 14, 8, 413, 46, 414, 89, 261, 264, 208, 168, 399, 24, 406, 415, 239, 416, 191, 417, 26, 9, 283, 69, 418, 419, 420, 157, 421, 422, 423, 370, 19, 7, 424, 171, 425, 140, 290, 394, 426, 184, 322, 427, 428, 402, 352, 429, 430, 32, 381, 431, 84, 75, 376, 226, 340, 383, 167, 203, 22, 432, 433, 401, 166, 434, 435, 178, 436, 437, 438, 365, 439, 440, 116, 441, 407, 442, 443, 212, 444, 445, 164, 81, 284, 446, 447, 448, 449, 0, 386, 450, 451, 42, 452, 221, 453, 454, 455, 456, 457, 356, 23, 303, 458, 459, 460, 77, 388, 461, 220, 462, 463, 28, 464, 193, 378, 465, 466, 467, 48, 302, 225, 468, 469, 470, 471, 472, 473, 474, 475, 360, 476, 477, 478, 105, 275, 73, 479, 480, 481, 482, 483, 484, 485, 486, 487, 488, 489, 490, 34, 491, 492, 493, 494, 495, 496, 497, 498, 499, 353, 1, 500]\n",
      "Known item id:  1415\n",
      "Max user id:  501\n",
      "Intended shape:  (501, 1415)\n",
      "X_pred:  [[0. 0. 0. ... 0. 0. 0.]\n",
      " [0. 0. 0. ... 0. 0. 0.]\n",
      " [0. 0. 0. ... 0. 0. 0.]\n",
      " ...\n",
      " [0. 0. 0. ... 0. 0. 0.]\n",
      " [0. 0. 0. ... 0. 0. 0.]\n",
      " [0. 0. 0. ... 0. 0. 0.]]\n",
      "X_pred after:  [[0.   0.75 0.   ... 0.   0.   0.  ]\n",
      " [0.   0.75 0.   ... 0.   0.   0.  ]\n",
      " [0.   0.   0.   ... 0.   0.   0.  ]\n",
      " ...\n",
      " [0.   0.75 0.   ... 0.   0.   0.  ]\n",
      " [0.   0.75 0.   ... 0.   0.   0.  ]\n",
      " [0.   0.75 0.   ... 0.   0.   0.  ]]\n"
     ]
    },
    {
     "data": {
      "text/plain": [
       "       interactionid  uid  iid         ts  rating\n",
       "411              411    8   68  874786460     4.0\n",
       "946              946    0  295  874809091     4.0\n",
       "947              947    0  166  874809192     5.0\n",
       "948              948    0   35  874809292     4.0\n",
       "2403            2403   26  119  874967063     4.0\n",
       "...              ...  ...  ...        ...     ...\n",
       "50929          50929  500   -1  883195456     5.0\n",
       "50930          50930  500   -1  883195456     5.0\n",
       "50931          50931  500   -1  883195479     5.0\n",
       "50932          50932  500   -1  883195527     5.0\n",
       "50933          50933  500   -1  883195527     5.0\n",
       "\n",
       "[8322 rows x 5 columns]"
      ]
     },
     "execution_count": 6,
     "metadata": {},
     "output_type": "execute_result"
    }
   ],
   "source": [
    "ul_data = evaluator.get_unlabeled_data(external_model_id)\n",
    "prediction = external_model.predict(data, ul_data)\n",
    "ul_data"
   ]
  },
  {
   "cell_type": "code",
   "execution_count": 7,
   "metadata": {},
   "outputs": [
    {
     "name": "stdout",
     "output_type": "stream",
     "text": [
      "<Compressed Sparse Row sparse matrix of dtype 'float64'\n",
      "\twith 16400 stored elements and shape (501, 1415)>\n",
      "  Coords\tValues\n",
      "  (0, 1)\t0.75\n",
      "  (0, 3)\t0.41015625\n",
      "  (0, 4)\t0.53515625\n",
      "  (0, 7)\t0.67578125\n",
      "  (0, 9)\t0.6875\n",
      "  (0, 10)\t0.359375\n",
      "  (0, 11)\t0.58984375\n",
      "  (0, 13)\t0.453125\n",
      "  (0, 14)\t0.44140625\n",
      "  (0, 15)\t0.48828125\n",
      "  (0, 18)\t0.34765625\n",
      "  (0, 24)\t0.75390625\n",
      "  (0, 29)\t1.0\n",
      "  (0, 35)\t0.4296875\n",
      "  (0, 38)\t0.55859375\n",
      "  (0, 39)\t0.453125\n",
      "  (0, 40)\t0.90234375\n",
      "  (0, 41)\t0.57421875\n",
      "  (0, 45)\t0.4765625\n",
      "  (0, 48)\t0.50390625\n",
      "  (0, 50)\t0.71875\n",
      "  (0, 56)\t0.390625\n",
      "  (0, 57)\t0.359375\n",
      "  (0, 58)\t0.47265625\n",
      "  (0, 60)\t0.484375\n",
      "  :\t:\n",
      "  (500, 282)\t0.44921875\n",
      "  (500, 291)\t0.4375\n",
      "  (500, 295)\t0.65625\n",
      "  (500, 296)\t0.37890625\n",
      "  (500, 301)\t0.6875\n",
      "  (500, 302)\t0.390625\n",
      "  (500, 303)\t0.75390625\n",
      "  (500, 308)\t0.41796875\n",
      "  (500, 310)\t0.359375\n",
      "  (500, 311)\t0.34765625\n",
      "  (500, 312)\t0.4140625\n",
      "  (500, 317)\t0.40234375\n",
      "  (500, 322)\t0.5390625\n",
      "  (500, 323)\t0.41015625\n",
      "  (500, 338)\t0.5390625\n",
      "  (500, 352)\t0.46484375\n",
      "  (500, 366)\t0.47265625\n",
      "  (500, 372)\t0.375\n",
      "  (500, 381)\t0.45703125\n",
      "  (500, 411)\t0.34765625\n",
      "  (500, 451)\t0.4140625\n",
      "  (500, 558)\t0.53515625\n",
      "  (500, 570)\t0.40234375\n",
      "  (500, 988)\t0.34375\n",
      "  (500, 1048)\t0.37109375\n",
      "[[0.   0.75 0.   ... 0.   0.   0.  ]\n",
      " [0.   0.75 0.   ... 0.   0.   0.  ]\n",
      " [0.   0.   0.   ... 0.   0.   0.  ]\n",
      " ...\n",
      " [0.   0.75 0.   ... 0.   0.   0.  ]\n",
      " [0.   0.75 0.   ... 0.   0.   0.  ]\n",
      " [0.   0.75 0.   ... 0.   0.   0.  ]]\n",
      "DEBUG - Submitting prediction for algorithm bdd640fb-0667-4ad1-9c80-317fa3b1799d\n",
      "DEBUG - Precision compute started - RecallK_100\n",
      "DEBUG - Number of users: 163\n",
      "DEBUG - Number of ground truth interactions: 7500\n",
      "DEBUG - Recall compute complete - RecallK_100\n",
      "DEBUG - Metric RecallK(timestamp_limit=880606923,K=100) created for algorithm decaypop_bdd640fb-0667-4ad1-9c80-317fa3b1799d\n",
      "DEBUG - Prediction evaluated for algorithm bdd640fb-0667-4ad1-9c80-317fa3b1799d complete\n"
     ]
    }
   ],
   "source": [
    "print(prediction)\n",
    "print(prediction.toarray())\n",
    "evaluator.submit_prediction(external_model_id, prediction)"
   ]
  },
  {
   "cell_type": "markdown",
   "metadata": {},
   "source": [
    "# Iteration 2"
   ]
  },
  {
   "cell_type": "code",
   "execution_count": 8,
   "metadata": {},
   "outputs": [
    {
     "name": "stdout",
     "output_type": "stream",
     "text": [
      "DEBUG - Getting data for algorithm bdd640fb-0667-4ad1-9c80-317fa3b1799d\n",
      "DEBUG - (user x item) shape defined is (501, 1470)\n",
      "DEBUG - Shape of dataframe stored in matrix was (11699, 5) before masking\n",
      "DEBUG - Shape of dataframe stored in matrix is now (11699, 5) after masking\n",
      "DEBUG - Final (user x item) shape defined is (501, 1470)\n",
      "DEBUG - Caching evaluation data for step 2\n",
      "DEBUG - (user x item) shape defined is (501, 1470)\n",
      "DEBUG - Shape of dataframe stored in matrix was (10263, 5) before masking\n",
      "DEBUG - Shape of dataframe stored in matrix is now (10263, 5) after masking\n",
      "DEBUG - Final (user x item) shape defined is (501, 1470)\n",
      "DEBUG - (user x item) shape defined is (501, 1470)\n",
      "DEBUG - Shape of dataframe stored in matrix was (9335, 5) before masking\n",
      "DEBUG - Shape of dataframe stored in matrix is now (9141, 5) after masking\n",
      "DEBUG - Final (user x item) shape defined is (633, 1470)\n",
      "DEBUG - Data cached for step 2 complete\n",
      "X_transformed:  [[0 0 0 ... 0 0 0]\n",
      " [0 1 0 ... 0 0 0]\n",
      " [0 0 0 ... 0 0 0]\n",
      " ...\n",
      " [0 0 0 ... 0 0 0]\n",
      " [0 0 0 ... 0 0 0]\n",
      " [0 0 0 ... 0 0 0]]\n",
      "DEBUG - Fitting DecayPopularity complete - Took 0.0131s\n"
     ]
    },
    {
     "data": {
      "text/plain": [
       "       interactionid  uid  iid         ts  rating\n",
       "39235          39235  412  262  880606923     3.0\n",
       "39236          39236  412  407  880606923     2.0\n",
       "39237          39237  412  848  880606947     1.0\n",
       "39238          39238  412  337  880606993     4.0\n",
       "39239          39239  412  583  880606993     5.0\n",
       "...              ...  ...  ...        ...     ...\n",
       "50929          50929  500   62  883195456     5.0\n",
       "50930          50930  500  242  883195456     5.0\n",
       "50931          50931  500   65  883195479     5.0\n",
       "50932          50932  500  914  883195527     5.0\n",
       "50933          50933  500  202  883195527     5.0\n",
       "\n",
       "[11699 rows x 5 columns]"
      ]
     },
     "execution_count": 8,
     "metadata": {},
     "output_type": "execute_result"
    }
   ],
   "source": [
    "data = evaluator.get_data(external_model_id)\n",
    "external_model.fit(data)\n",
    "data"
   ]
  },
  {
   "cell_type": "code",
   "execution_count": 9,
   "metadata": {},
   "outputs": [
    {
     "name": "stdout",
     "output_type": "stream",
     "text": [
      "DEBUG - Getting unlabeled data for algorithm bdd640fb-0667-4ad1-9c80-317fa3b1799d\n",
      "DEBUG - Performing items_in comparison\n",
      "Users:  [501, 502, 503, 407, 185, 504, 89, 208, 414, 14, 423, 505, 506, 507, 508, 156, 509, 297, 70, 510, 0, 511, 184, 32, 365, 512, 513, 514, 515, 516, 75, 517, 518, 519, 520, 521, 352, 522, 523, 524, 62, 46, 525, 225, 105, 526, 527, 528, 529, 189, 394, 530, 452, 26, 531, 532, 533, 534, 462, 535, 536, 302, 537, 538, 417, 539, 540, 193, 541, 542, 543, 136, 261, 24, 167, 7, 370, 48, 544, 545, 388, 451, 546, 547, 97, 548, 549, 96, 425, 66, 386, 220, 357, 73, 168, 402, 23, 212, 550, 551, 552, 87, 470, 553, 554, 555, 556, 557, 102, 558, 559, 353, 560, 561, 30, 562, 1, 468, 563, 194, 564, 565, 226, 566, 567, 568, 569, 570, 33, 571, 572, 573, 574, 401, 575, 469, 576, 69, 577, 204, 578, 579, 580, 581, 140, 582, 583, 19, 584, 6, 585, 9, 22, 275, 586, 259, 587, 415, 588, 589, 245, 112, 590, 433, 591, 592, 593, 594, 398, 283, 29, 490, 595, 596, 597, 84, 598, 599, 600, 601, 157, 602, 603, 51, 604, 406, 605, 44, 127, 606, 607, 608, 53, 609, 337, 484, 610, 25, 34, 611, 351, 612, 613, 614, 615, 616, 47, 617, 618, 619, 498, 620, 115, 621, 622, 623, 354, 624, 625, 626, 627, 628, 629, 630, 631, 632]\n",
      "Known item id:  1470\n",
      "Max user id:  633\n",
      "Intended shape:  (633, 1470)\n",
      "X_pred:  [[0. 0. 0. ... 0. 0. 0.]\n",
      " [0. 0. 0. ... 0. 0. 0.]\n",
      " [0. 0. 0. ... 0. 0. 0.]\n",
      " ...\n",
      " [0. 0. 0. ... 0. 0. 0.]\n",
      " [0. 0. 0. ... 0. 0. 0.]\n",
      " [0. 0. 0. ... 0. 0. 0.]]\n",
      "X_pred after:  [[0.        0.7360402 0.        ... 0.        0.        0.       ]\n",
      " [0.        0.7360402 0.        ... 0.        0.        0.       ]\n",
      " [0.        0.        0.        ... 0.        0.        0.       ]\n",
      " ...\n",
      " [0.        0.7360402 0.        ... 0.        0.        0.       ]\n",
      " [0.        0.7360402 0.        ... 0.        0.        0.       ]\n",
      " [0.        0.7360402 0.        ... 0.        0.        0.       ]]\n"
     ]
    },
    {
     "data": {
      "text/plain": [
       "       interactionid  uid  iid         ts  rating\n",
       "575              575    6  388  874789279     4.0\n",
       "576              576    6   80  874789299     3.0\n",
       "2804            2804   33   29  875061066     3.0\n",
       "2805            2805   33  727  875061066     1.0\n",
       "3174            3174   33  552  875106638     3.0\n",
       "...              ...  ...  ...        ...     ...\n",
       "64471          64471  490   -1  885784518     4.0\n",
       "64472          64472  490   -1  885784558     3.0\n",
       "64473          64473  490   -1  885784558     4.0\n",
       "64474          64474  490   -1  885784558     4.0\n",
       "64475          64475  490   -1  885784583     3.0\n",
       "\n",
       "[10263 rows x 5 columns]"
      ]
     },
     "execution_count": 9,
     "metadata": {},
     "output_type": "execute_result"
    }
   ],
   "source": [
    "ul_data = evaluator.get_unlabeled_data(external_model_id)\n",
    "prediction = external_model.predict(data, ul_data)\n",
    "ul_data"
   ]
  },
  {
   "cell_type": "code",
   "execution_count": 10,
   "metadata": {},
   "outputs": [
    {
     "name": "stdout",
     "output_type": "stream",
     "text": [
      "<Compressed Sparse Row sparse matrix of dtype 'float64'\n",
      "\twith 22600 stored elements and shape (633, 1470)>\n",
      "  Coords\tValues\n",
      "  (0, 1)\t0.7360402036993675\n",
      "  (0, 3)\t0.4071752518316358\n",
      "  (0, 4)\t0.567074742583217\n",
      "  (0, 7)\t0.7298996964224173\n",
      "  (0, 9)\t0.6622948122349691\n",
      "  (0, 11)\t0.6238465177253253\n",
      "  (0, 13)\t0.5191432033384078\n",
      "  (0, 14)\t0.43163923974105056\n",
      "  (0, 15)\t0.5334809376747909\n",
      "  (0, 24)\t0.7693444275060813\n",
      "  (0, 29)\t1.0\n",
      "  (0, 35)\t0.44960929263736094\n",
      "  (0, 38)\t0.5869738219931261\n",
      "  (0, 39)\t0.5067344955156234\n",
      "  (0, 40)\t0.8622820429080807\n",
      "  (0, 41)\t0.6271254085490984\n",
      "  (0, 45)\t0.49561180536857136\n",
      "  (0, 48)\t0.5115889851168411\n",
      "  (0, 50)\t0.7115762157899528\n",
      "  (0, 56)\t0.4205803962284405\n",
      "  (0, 58)\t0.49332935111881865\n",
      "  (0, 60)\t0.5311984834250381\n",
      "  (0, 62)\t0.5373389907019884\n",
      "  (0, 65)\t0.38470413707026163\n",
      "  (0, 70)\t0.4260778946675246\n",
      "  :\t:\n",
      "  (632, 296)\t0.37650691001082875\n",
      "  (632, 301)\t0.7119296435261068\n",
      "  (632, 302)\t0.37094556493730285\n",
      "  (632, 303)\t0.7507313657719048\n",
      "  (632, 308)\t0.4241488681539258\n",
      "  (632, 310)\t0.3712989926734569\n",
      "  (632, 312)\t0.44668382954974184\n",
      "  (632, 317)\t0.4088146972435224\n",
      "  (632, 322)\t0.5445397811874009\n",
      "  (632, 323)\t0.4257883135658124\n",
      "  (632, 338)\t0.5507441350987932\n",
      "  (632, 352)\t0.4577426730623519\n",
      "  (632, 366)\t0.45610322765046535\n",
      "  (632, 372)\t0.4300636409636059\n",
      "  (632, 381)\t0.4655864723856306\n",
      "  (632, 387)\t0.37849978315886945\n",
      "  (632, 411)\t0.3954733994811595\n",
      "  (632, 451)\t0.4094577060813886\n",
      "  (632, 470)\t0.3693699661598582\n",
      "  (632, 474)\t0.3951838183794473\n",
      "  (632, 558)\t0.5732790964946092\n",
      "  (632, 570)\t0.4584495285346601\n",
      "  (632, 988)\t0.4180083608769755\n",
      "  (632, 995)\t0.37493131123338413\n",
      "  (632, 1048)\t0.4215768328024609\n",
      "[[0.        0.7360402 0.        ... 0.        0.        0.       ]\n",
      " [0.        0.7360402 0.        ... 0.        0.        0.       ]\n",
      " [0.        0.        0.        ... 0.        0.        0.       ]\n",
      " ...\n",
      " [0.        0.7360402 0.        ... 0.        0.        0.       ]\n",
      " [0.        0.7360402 0.        ... 0.        0.        0.       ]\n",
      " [0.        0.7360402 0.        ... 0.        0.        0.       ]]\n",
      "DEBUG - Submitting prediction for algorithm bdd640fb-0667-4ad1-9c80-317fa3b1799d\n",
      "DEBUG - Precision compute started - RecallK_100\n",
      "DEBUG - Number of users: 226\n",
      "DEBUG - Number of ground truth interactions: 9141\n",
      "DEBUG - Recall compute complete - RecallK_100\n",
      "DEBUG - Metric RecallK(timestamp_limit=883198923,K=100) created for algorithm decaypop_bdd640fb-0667-4ad1-9c80-317fa3b1799d\n",
      "DEBUG - Prediction evaluated for algorithm bdd640fb-0667-4ad1-9c80-317fa3b1799d complete\n"
     ]
    }
   ],
   "source": [
    "print(prediction)\n",
    "print(prediction.toarray())\n",
    "evaluator.submit_prediction(external_model_id, prediction)"
   ]
  },
  {
   "cell_type": "markdown",
   "metadata": {},
   "source": [
    "# Iteration 3"
   ]
  },
  {
   "cell_type": "code",
   "execution_count": 11,
   "metadata": {},
   "outputs": [
    {
     "name": "stdout",
     "output_type": "stream",
     "text": [
      "DEBUG - Getting data for algorithm bdd640fb-0667-4ad1-9c80-317fa3b1799d\n",
      "DEBUG - (user x item) shape defined is (633, 1562)\n",
      "DEBUG - Shape of dataframe stored in matrix was (13542, 5) before masking\n",
      "DEBUG - Shape of dataframe stored in matrix is now (13542, 5) after masking\n",
      "DEBUG - Final (user x item) shape defined is (633, 1562)\n",
      "DEBUG - Caching evaluation data for step 3\n",
      "DEBUG - (user x item) shape defined is (633, 1562)\n",
      "DEBUG - Shape of dataframe stored in matrix was (7579, 5) before masking\n",
      "DEBUG - Shape of dataframe stored in matrix is now (7579, 5) after masking\n",
      "DEBUG - Final (user x item) shape defined is (633, 1562)\n",
      "DEBUG - (user x item) shape defined is (633, 1562)\n",
      "DEBUG - Shape of dataframe stored in matrix was (6688, 5) before masking\n",
      "DEBUG - Shape of dataframe stored in matrix is now (6625, 5) after masking\n",
      "DEBUG - Final (user x item) shape defined is (712, 1562)\n",
      "DEBUG - Data cached for step 3 complete\n",
      "X_transformed:  [[0 0 0 ... 0 0 0]\n",
      " [0 0 0 ... 0 0 0]\n",
      " [0 0 0 ... 0 0 0]\n",
      " ...\n",
      " [0 0 0 ... 0 0 0]\n",
      " [0 0 0 ... 0 0 0]\n",
      " [0 1 0 ... 0 0 1]]\n",
      "DEBUG - Fitting DecayPopularity complete - Took 0.0183s\n"
     ]
    },
    {
     "data": {
      "text/plain": [
       "       interactionid  uid   iid         ts  rating\n",
       "50934          50934  501   119  883215358     3.0\n",
       "50935          50935  501   301  883215406     4.0\n",
       "50936          50936  501   303  883215406     2.0\n",
       "50937          50937  501  1332  883215525     4.0\n",
       "50938          50938  501   305  883215586     5.0\n",
       "...              ...  ...   ...        ...     ...\n",
       "64471          64471  490   299  885784518     4.0\n",
       "64472          64472  490   898  885784558     3.0\n",
       "64473          64473  490   349  885784558     4.0\n",
       "64474          64474  490   249  885784558     4.0\n",
       "64475          64475  490   917  885784583     3.0\n",
       "\n",
       "[13542 rows x 5 columns]"
      ]
     },
     "execution_count": 11,
     "metadata": {},
     "output_type": "execute_result"
    }
   ],
   "source": [
    "data = evaluator.get_data(external_model_id)\n",
    "external_model.fit(data)\n",
    "data"
   ]
  },
  {
   "cell_type": "code",
   "execution_count": 12,
   "metadata": {},
   "outputs": [
    {
     "name": "stdout",
     "output_type": "stream",
     "text": [
      "DEBUG - Getting unlabeled data for algorithm bdd640fb-0667-4ad1-9c80-317fa3b1799d\n",
      "DEBUG - Performing items_in comparison\n",
      "Users:  [47, 633, 225, 634, 620, 635, 636, 261, 365, 637, 383, 638, 7, 593, 23, 503, 372, 33, 639, 470, 414, 640, 26, 554, 46, 376, 22, 352, 641, 105, 603, 642, 204, 581, 574, 643, 168, 644, 3, 645, 322, 53, 553, 76, 541, 452, 646, 20, 283, 264, 647, 116, 127, 406, 4, 545, 9, 648, 649, 650, 32, 651, 594, 484, 652, 653, 600, 654, 655, 656, 75, 585, 657, 658, 212, 87, 659, 539, 623, 660, 661, 388, 1, 73, 208, 662, 370, 351, 663, 433, 413, 490, 415, 664, 665, 14, 666, 100, 667, 12, 668, 669, 670, 671, 672, 673, 89, 674, 171, 675, 291, 220, 96, 676, 677, 678, 29, 448, 679, 19, 680, 97, 302, 681, 528, 682, 25, 559, 184, 683, 684, 685, 686, 154, 687, 688, 689, 690, 691, 692, 693, 201, 694, 30, 695, 696, 354, 18, 697, 698, 107, 699, 194, 460, 700, 701, 77, 702, 57, 703, 704, 705, 706, 707, 517, 708, 709, 710, 711]\n",
      "Known item id:  1562\n",
      "Max user id:  712\n",
      "Intended shape:  (712, 1562)\n",
      "X_pred:  [[0. 0. 0. ... 0. 0. 0.]\n",
      " [0. 0. 0. ... 0. 0. 0.]\n",
      " [0. 0. 0. ... 0. 0. 0.]\n",
      " ...\n",
      " [0. 0. 0. ... 0. 0. 0.]\n",
      " [0. 0. 0. ... 0. 0. 0.]\n",
      " [0. 0. 0. ... 0. 0. 0.]]\n",
      "X_pred after:  [[0.         0.         0.         ... 0.         0.         0.        ]\n",
      " [0.         0.80588216 0.         ... 0.         0.         0.        ]\n",
      " [0.         0.         0.         ... 0.         0.         0.        ]\n",
      " ...\n",
      " [0.         0.80588216 0.         ... 0.         0.         0.        ]\n",
      " [0.         0.80588216 0.         ... 0.         0.         0.        ]\n",
      " [0.         0.80588216 0.         ... 0.         0.         0.        ]]\n"
     ]
    },
    {
     "data": {
      "text/plain": [
       "       interactionid  uid  iid         ts  rating\n",
       "240              240    4  214  874778696     3.0\n",
       "241              241    4  215  874778722     4.0\n",
       "242              242    4  216  874778756     3.0\n",
       "243              243    4  217  874778756     3.0\n",
       "244              244    4  218  874778756     3.0\n",
       "...              ...  ...  ...        ...     ...\n",
       "75252          75252  711   -1  888351713     4.0\n",
       "75253          75253  711   -1  888351713     3.0\n",
       "75254          75254  711   -1  888351813     3.0\n",
       "75301          75301  372   -1  888364663     5.0\n",
       "75302          75302  372   -1  888364663     5.0\n",
       "\n",
       "[7579 rows x 5 columns]"
      ]
     },
     "execution_count": 12,
     "metadata": {},
     "output_type": "execute_result"
    }
   ],
   "source": [
    "ul_data = evaluator.get_unlabeled_data(external_model_id)\n",
    "prediction = external_model.predict(data, ul_data)\n",
    "ul_data"
   ]
  },
  {
   "cell_type": "code",
   "execution_count": 13,
   "metadata": {},
   "outputs": [
    {
     "name": "stdout",
     "output_type": "stream",
     "text": [
      "<Compressed Sparse Row sparse matrix of dtype 'float64'\n",
      "\twith 16900 stored elements and shape (712, 1562)>\n",
      "  Coords\tValues\n",
      "  (1, 1)\t0.8058821575942534\n",
      "  (1, 3)\t0.38707477718499456\n",
      "  (1, 4)\t0.5726698264829462\n",
      "  (1, 7)\t0.868783097708499\n",
      "  (1, 9)\t0.6502112666030699\n",
      "  (1, 11)\t0.6773083202220193\n",
      "  (1, 13)\t0.47913286304497826\n",
      "  (1, 14)\t0.4340584269796531\n",
      "  (1, 15)\t0.601863413314565\n",
      "  (1, 18)\t0.3870400943427875\n",
      "  (1, 24)\t0.7692798554105041\n",
      "  (1, 29)\t1.0\n",
      "  (1, 33)\t0.37239455637845154\n",
      "  (1, 35)\t0.4272519405187968\n",
      "  (1, 38)\t0.5739800910357895\n",
      "  (1, 39)\t0.4956248084838016\n",
      "  (1, 40)\t0.8968211277401149\n",
      "  (1, 41)\t0.686008044028197\n",
      "  (1, 45)\t0.45440293307874924\n",
      "  (1, 48)\t0.5487069090777472\n",
      "  (1, 50)\t0.7370475503504765\n",
      "  (1, 56)\t0.43656604024487555\n",
      "  (1, 57)\t0.3792792758375649\n",
      "  (1, 58)\t0.44613354542392064\n",
      "  (1, 60)\t0.5207575008293417\n",
      "  :\t:\n",
      "  (711, 301)\t0.9265751515506316\n",
      "  (711, 302)\t0.4952501695171293\n",
      "  (711, 303)\t0.9214816920219296\n",
      "  (711, 306)\t0.41204444410445235\n",
      "  (711, 308)\t0.38712160705582865\n",
      "  (711, 317)\t0.42420107526176104\n",
      "  (711, 322)\t0.5046683177698295\n",
      "  (711, 323)\t0.37326233775131884\n",
      "  (711, 338)\t0.5364824337071349\n",
      "  (711, 352)\t0.45989915498676237\n",
      "  (711, 366)\t0.4009218994608775\n",
      "  (711, 381)\t0.5871087888651499\n",
      "  (711, 411)\t0.3747373859739181\n",
      "  (711, 451)\t0.43176242725502056\n",
      "  (711, 474)\t0.4328815429691428\n",
      "  (711, 507)\t0.36774358002972557\n",
      "  (711, 558)\t0.5025128076576991\n",
      "  (711, 570)\t0.4456371233029415\n",
      "  (711, 742)\t0.4097985539654381\n",
      "  (711, 988)\t0.47187350461919264\n",
      "  (711, 995)\t0.46055325170732825\n",
      "  (711, 1048)\t0.48069829129446145\n",
      "  (711, 1332)\t0.41370298245500275\n",
      "  (711, 1452)\t0.4201122941356066\n",
      "  (711, 1460)\t0.7114583934571852\n",
      "[[0.         0.         0.         ... 0.         0.         0.        ]\n",
      " [0.         0.80588216 0.         ... 0.         0.         0.        ]\n",
      " [0.         0.         0.         ... 0.         0.         0.        ]\n",
      " ...\n",
      " [0.         0.80588216 0.         ... 0.         0.         0.        ]\n",
      " [0.         0.80588216 0.         ... 0.         0.         0.        ]\n",
      " [0.         0.80588216 0.         ... 0.         0.         0.        ]]\n",
      "DEBUG - Submitting prediction for algorithm bdd640fb-0667-4ad1-9c80-317fa3b1799d\n",
      "DEBUG - Precision compute started - RecallK_100\n",
      "DEBUG - Number of users: 169\n",
      "DEBUG - Number of ground truth interactions: 6625\n",
      "DEBUG - Recall compute complete - RecallK_100\n",
      "DEBUG - Metric RecallK(timestamp_limit=885790923,K=100) created for algorithm decaypop_bdd640fb-0667-4ad1-9c80-317fa3b1799d\n",
      "DEBUG - Prediction evaluated for algorithm bdd640fb-0667-4ad1-9c80-317fa3b1799d complete\n"
     ]
    }
   ],
   "source": [
    "print(prediction)\n",
    "print(prediction.toarray())\n",
    "evaluator.submit_prediction(external_model_id, prediction)"
   ]
  },
  {
   "cell_type": "markdown",
   "metadata": {},
   "source": [
    "# Iteration 4"
   ]
  },
  {
   "cell_type": "code",
   "execution_count": 14,
   "metadata": {},
   "outputs": [
    {
     "name": "stdout",
     "output_type": "stream",
     "text": [
      "DEBUG - Getting data for algorithm bdd640fb-0667-4ad1-9c80-317fa3b1799d\n",
      "DEBUG - (user x item) shape defined is (712, 1597)\n",
      "DEBUG - Shape of dataframe stored in matrix was (10827, 5) before masking\n",
      "DEBUG - Shape of dataframe stored in matrix is now (10827, 5) after masking\n",
      "DEBUG - Final (user x item) shape defined is (712, 1597)\n",
      "DEBUG - Caching evaluation data for step 4\n",
      "DEBUG - (user x item) shape defined is (712, 1597)\n",
      "DEBUG - Shape of dataframe stored in matrix was (6962, 5) before masking\n",
      "DEBUG - Shape of dataframe stored in matrix is now (6962, 5) after masking\n",
      "DEBUG - Final (user x item) shape defined is (712, 1597)\n",
      "DEBUG - (user x item) shape defined is (712, 1597)\n",
      "DEBUG - Shape of dataframe stored in matrix was (5950, 5) before masking\n",
      "DEBUG - Shape of dataframe stored in matrix is now (5910, 5) after masking\n",
      "DEBUG - Final (user x item) shape defined is (784, 1597)\n",
      "DEBUG - Data cached for step 4 complete\n",
      "X_transformed:  [[0 0 0 ... 0 0 0]\n",
      " [0 0 0 ... 0 0 0]\n",
      " [0 0 0 ... 0 0 0]\n",
      " ...\n",
      " [0 1 0 ... 0 0 0]\n",
      " [0 0 0 ... 0 0 0]\n",
      " [0 0 0 ... 0 0 0]]\n",
      "DEBUG - Fitting DecayPopularity complete - Took 0.0449s\n"
     ]
    },
    {
     "data": {
      "text/plain": [
       "       interactionid  uid   iid         ts  rating\n",
       "64476          64476   47   507  885804123     3.0\n",
       "64477          64477   47   296  885805093     3.0\n",
       "64478          64478   47  1084  885805554     5.0\n",
       "64479          64479  633   995  885806710     3.0\n",
       "64480          64480  633     1  885806710     4.0\n",
       "...              ...  ...   ...        ...     ...\n",
       "75298          75298  698   624  888360532     2.0\n",
       "75299          75299  698   782  888360532     3.0\n",
       "75300          75300  698   539  888360532     4.0\n",
       "75301          75301  372  1500  888364663     5.0\n",
       "75302          75302  372  1513  888364663     5.0\n",
       "\n",
       "[10827 rows x 5 columns]"
      ]
     },
     "execution_count": 14,
     "metadata": {},
     "output_type": "execute_result"
    }
   ],
   "source": [
    "data = evaluator.get_data(external_model_id)\n",
    "external_model.fit(data)\n",
    "data"
   ]
  },
  {
   "cell_type": "code",
   "execution_count": 15,
   "metadata": {},
   "outputs": [
    {
     "name": "stdout",
     "output_type": "stream",
     "text": [
      "DEBUG - Getting unlabeled data for algorithm bdd640fb-0667-4ad1-9c80-317fa3b1799d\n",
      "DEBUG - Performing items_in comparison\n",
      "Users:  [48, 712, 46, 713, 714, 156, 715, 105, 414, 716, 623, 75, 682, 717, 47, 490, 718, 719, 643, 720, 29, 721, 545, 1, 372, 722, 484, 723, 633, 724, 725, 361, 726, 727, 697, 9, 0, 728, 729, 730, 711, 731, 732, 570, 63, 4, 733, 603, 23, 406, 696, 452, 127, 734, 735, 451, 736, 25, 14, 89, 737, 302, 738, 225, 19, 168, 739, 677, 76, 7, 740, 154, 741, 226, 679, 22, 620, 742, 415, 110, 743, 388, 744, 698, 745, 746, 747, 291, 171, 204, 66, 748, 749, 650, 352, 750, 176, 574, 505, 751, 18, 652, 8, 752, 753, 754, 609, 755, 32, 756, 757, 84, 593, 758, 759, 760, 100, 694, 690, 470, 26, 87, 761, 370, 140, 762, 559, 240, 34, 763, 594, 81, 219, 764, 765, 766, 161, 767, 184, 768, 769, 264, 770, 687, 351, 398, 771, 116, 655, 772, 283, 6, 773, 774, 73, 775, 197, 453, 776, 24, 777, 778, 425, 779, 3, 541, 780, 781, 30, 782, 69, 783, 107, 433]\n",
      "Known item id:  1597\n",
      "Max user id:  784\n",
      "Intended shape:  (784, 1597)\n",
      "X_pred:  [[0. 0. 0. ... 0. 0. 0.]\n",
      " [0. 0. 0. ... 0. 0. 0.]\n",
      " [0. 0. 0. ... 0. 0. 0.]\n",
      " ...\n",
      " [0. 0. 0. ... 0. 0. 0.]\n",
      " [0. 0. 0. ... 0. 0. 0.]\n",
      " [0. 0. 0. ... 0. 0. 0.]]\n",
      "X_pred after:  [[0.         0.76182451 0.40056784 ... 0.         0.         0.        ]\n",
      " [0.         0.76182451 0.40056784 ... 0.         0.         0.        ]\n",
      " [0.         0.         0.         ... 0.         0.         0.        ]\n",
      " ...\n",
      " [0.         0.76182451 0.40056784 ... 0.         0.         0.        ]\n",
      " [0.         0.76182451 0.40056784 ... 0.         0.         0.        ]\n",
      " [0.         0.76182451 0.40056784 ... 0.         0.         0.        ]]\n"
     ]
    },
    {
     "data": {
      "text/plain": [
       "       interactionid  uid  iid         ts  rating\n",
       "5910            5910   63  160  875502229     4.0\n",
       "5911            5911   63  135  875502230     5.0\n",
       "5912            5912   63  163  875502283     2.0\n",
       "5913            5913   63  220  875502283     3.0\n",
       "5915            5915   63  343  875502299     4.0\n",
       "...              ...  ...  ...        ...     ...\n",
       "83432          83432  679   -1  890939697     2.0\n",
       "83433          83433  679   -1  890939697     2.0\n",
       "83434          83434  679   -1  890939753     2.0\n",
       "83435          83435  679   -1  890939815     3.0\n",
       "83436          83436  433   -1  890956632     3.0\n",
       "\n",
       "[6962 rows x 5 columns]"
      ]
     },
     "execution_count": 15,
     "metadata": {},
     "output_type": "execute_result"
    }
   ],
   "source": [
    "ul_data = evaluator.get_unlabeled_data(external_model_id)\n",
    "prediction = external_model.predict(data, ul_data)\n",
    "ul_data"
   ]
  },
  {
   "cell_type": "code",
   "execution_count": 16,
   "metadata": {},
   "outputs": [
    {
     "name": "stdout",
     "output_type": "stream",
     "text": [
      "<Compressed Sparse Row sparse matrix of dtype 'float64'\n",
      "\twith 17400 stored elements and shape (784, 1597)>\n",
      "  Coords\tValues\n",
      "  (0, 1)\t0.7618245116161545\n",
      "  (0, 2)\t0.4005678372891836\n",
      "  (0, 4)\t0.5751141102532679\n",
      "  (0, 7)\t0.9145325116031451\n",
      "  (0, 9)\t0.6215243960273965\n",
      "  (0, 11)\t0.6061242987989532\n",
      "  (0, 13)\t0.4833180770273699\n",
      "  (0, 14)\t0.44294767178701655\n",
      "  (0, 15)\t0.5890331188887131\n",
      "  (0, 23)\t0.39835159946009074\n",
      "  (0, 24)\t0.7726926670308495\n",
      "  (0, 29)\t0.9582148359946715\n",
      "  (0, 33)\t0.42298721890523594\n",
      "  (0, 35)\t0.44914229220854135\n",
      "  (0, 38)\t0.5474193079664248\n",
      "  (0, 39)\t0.5195006720624353\n",
      "  (0, 40)\t0.8523818655637497\n",
      "  (0, 41)\t0.6291518562088182\n",
      "  (0, 45)\t0.4526475883375409\n",
      "  (0, 48)\t0.5448093201849221\n",
      "  (0, 50)\t0.6818061441894584\n",
      "  (0, 56)\t0.45358309748767467\n",
      "  (0, 57)\t0.41682989865462183\n",
      "  (0, 58)\t0.4959040745671431\n",
      "  (0, 60)\t0.5314835148630561\n",
      "  :\t:\n",
      "  (783, 308)\t0.4394486657742094\n",
      "  (783, 310)\t0.3957957426933204\n",
      "  (783, 312)\t0.3889658923836734\n",
      "  (783, 322)\t0.5332523024856811\n",
      "  (783, 338)\t0.4917817065474403\n",
      "  (783, 352)\t0.5119071225674582\n",
      "  (783, 366)\t0.4271487356938688\n",
      "  (783, 372)\t0.40442329308349007\n",
      "  (783, 381)\t0.5536788491291126\n",
      "  (783, 387)\t0.40671830094766254\n",
      "  (783, 411)\t0.386344888082346\n",
      "  (783, 451)\t0.44185297793598466\n",
      "  (783, 474)\t0.4046272010233769\n",
      "  (783, 526)\t0.3895414944102076\n",
      "  (783, 558)\t0.5039050774332315\n",
      "  (783, 570)\t0.4673478746192479\n",
      "  (783, 988)\t0.5553756423906144\n",
      "  (783, 992)\t0.44786213000552516\n",
      "  (783, 995)\t0.46501979436948837\n",
      "  (783, 1048)\t0.44630509438597066\n",
      "  (783, 1452)\t0.5212569342497654\n",
      "  (783, 1460)\t1.0\n",
      "  (783, 1467)\t0.43878853418568803\n",
      "  (783, 1469)\t0.38841583553597814\n",
      "  (783, 1500)\t0.4509612868564661\n",
      "[[0.         0.76182451 0.40056784 ... 0.         0.         0.        ]\n",
      " [0.         0.76182451 0.40056784 ... 0.         0.         0.        ]\n",
      " [0.         0.         0.         ... 0.         0.         0.        ]\n",
      " ...\n",
      " [0.         0.76182451 0.40056784 ... 0.         0.         0.        ]\n",
      " [0.         0.76182451 0.40056784 ... 0.         0.         0.        ]\n",
      " [0.         0.76182451 0.40056784 ... 0.         0.         0.        ]]\n",
      "DEBUG - Submitting prediction for algorithm bdd640fb-0667-4ad1-9c80-317fa3b1799d\n",
      "DEBUG - Precision compute started - RecallK_100\n",
      "DEBUG - Number of users: 174\n",
      "DEBUG - Number of ground truth interactions: 5910\n",
      "DEBUG - Recall compute complete - RecallK_100\n",
      "DEBUG - Metric RecallK(timestamp_limit=888382923,K=100) created for algorithm decaypop_bdd640fb-0667-4ad1-9c80-317fa3b1799d\n",
      "DEBUG - Prediction evaluated for algorithm bdd640fb-0667-4ad1-9c80-317fa3b1799d complete\n"
     ]
    }
   ],
   "source": [
    "print(prediction)\n",
    "print(prediction.toarray())\n",
    "evaluator.submit_prediction(external_model_id, prediction)"
   ]
  },
  {
   "cell_type": "markdown",
   "metadata": {},
   "source": [
    "# Iteration 5"
   ]
  },
  {
   "cell_type": "code",
   "execution_count": 17,
   "metadata": {},
   "outputs": [
    {
     "name": "stdout",
     "output_type": "stream",
     "text": [
      "DEBUG - Getting data for algorithm bdd640fb-0667-4ad1-9c80-317fa3b1799d\n",
      "DEBUG - (user x item) shape defined is (784, 1626)\n",
      "DEBUG - Shape of dataframe stored in matrix was (8134, 5) before masking\n",
      "DEBUG - Shape of dataframe stored in matrix is now (8134, 5) after masking\n",
      "DEBUG - Final (user x item) shape defined is (784, 1626)\n",
      "DEBUG - Caching evaluation data for step 5\n",
      "DEBUG - (user x item) shape defined is (784, 1626)\n",
      "DEBUG - Shape of dataframe stored in matrix was (11985, 5) before masking\n",
      "DEBUG - Shape of dataframe stored in matrix is now (11985, 5) after masking\n",
      "DEBUG - Final (user x item) shape defined is (784, 1626)\n",
      "DEBUG - (user x item) shape defined is (784, 1626)\n",
      "DEBUG - Shape of dataframe stored in matrix was (11204, 5) before masking\n",
      "DEBUG - Shape of dataframe stored in matrix is now (11090, 5) after masking\n",
      "DEBUG - Final (user x item) shape defined is (943, 1626)\n",
      "DEBUG - Data cached for step 5 complete\n",
      "X_transformed:  [[0 0 0 ... 0 0 0]\n",
      " [1 0 0 ... 0 0 0]\n",
      " [0 0 0 ... 0 0 0]\n",
      " ...\n",
      " [0 1 0 ... 0 0 0]\n",
      " [0 0 0 ... 0 0 0]\n",
      " [1 1 1 ... 0 0 0]]\n",
      "DEBUG - Fitting DecayPopularity complete - Took 0.034s\n"
     ]
    },
    {
     "data": {
      "text/plain": [
       "       interactionid  uid   iid         ts  rating\n",
       "75303          75303   48   995  888396828     4.0\n",
       "75304          75304   48  1572  888396828     4.0\n",
       "75305          75305   48  1464  888396828     2.0\n",
       "75306          75306   48  1592  888396966     5.0\n",
       "75307          75307   48  1585  888396967     3.0\n",
       "...              ...  ...   ...        ...     ...\n",
       "83432          83432  679   319  890939697     2.0\n",
       "83433          83433  679   995  890939697     2.0\n",
       "83434          83434  679   850  890939753     2.0\n",
       "83435          83435  679  1373  890939815     3.0\n",
       "83436          83436  433  1346  890956632     3.0\n",
       "\n",
       "[8134 rows x 5 columns]"
      ]
     },
     "execution_count": 17,
     "metadata": {},
     "output_type": "execute_result"
    }
   ],
   "source": [
    "data = evaluator.get_data(external_model_id)\n",
    "external_model.fit(data)\n",
    "data"
   ]
  },
  {
   "cell_type": "code",
   "execution_count": 18,
   "metadata": {},
   "outputs": [
    {
     "name": "stdout",
     "output_type": "stream",
     "text": [
      "DEBUG - Getting unlabeled data for algorithm bdd640fb-0667-4ad1-9c80-317fa3b1799d\n",
      "DEBUG - Performing items_in comparison\n",
      "Users:  [7, 14, 784, 785, 140, 786, 787, 788, 789, 790, 791, 792, 793, 794, 795, 796, 797, 798, 799, 800, 801, 802, 803, 804, 805, 806, 687, 807, 808, 452, 809, 810, 811, 812, 813, 154, 814, 815, 816, 817, 388, 818, 819, 820, 821, 184, 822, 823, 433, 824, 825, 826, 46, 32, 698, 827, 828, 829, 830, 831, 780, 832, 833, 834, 835, 225, 836, 837, 838, 839, 840, 841, 842, 843, 844, 845, 846, 847, 3, 9, 283, 848, 849, 850, 351, 96, 851, 852, 853, 600, 854, 855, 856, 620, 857, 858, 859, 860, 861, 862, 863, 690, 864, 865, 460, 866, 867, 868, 869, 870, 871, 872, 873, 874, 176, 875, 682, 876, 89, 877, 878, 879, 880, 881, 882, 883, 884, 885, 886, 887, 888, 889, 890, 891, 127, 892, 893, 894, 895, 48, 26, 896, 897, 898, 899, 900, 655, 901, 372, 902, 541, 570, 903, 904, 905, 906, 515, 907, 406, 908, 909, 910, 911, 633, 912, 219, 638, 913, 69, 425, 102, 30, 914, 915, 53, 916, 545, 212, 917, 70, 918, 337, 1, 919, 772, 920, 197, 921, 752, 922, 470, 923, 675, 468, 193, 490, 924, 168, 925, 578, 926, 370, 927, 928, 107, 677, 498, 929, 639, 67, 930, 75, 259, 931, 116, 932, 933, 934, 208, 158, 935, 936, 97, 284, 937, 59, 938, 415, 384, 939, 603, 402, 940, 204, 100, 291, 941, 942]\n",
      "Known item id:  1626\n",
      "Max user id:  943\n",
      "Intended shape:  (943, 1626)\n",
      "X_pred:  [[0. 0. 0. ... 0. 0. 0.]\n",
      " [0. 0. 0. ... 0. 0. 0.]\n",
      " [0. 0. 0. ... 0. 0. 0.]\n",
      " ...\n",
      " [0. 0. 0. ... 0. 0. 0.]\n",
      " [0. 0. 0. ... 0. 0. 0.]\n",
      " [0. 0. 0. ... 0. 0. 0.]]\n",
      "X_pred after:  [[0.         0.         0.         ... 0.         0.         0.        ]\n",
      " [0.32256688 0.7030338  0.31980195 ... 0.         0.         0.        ]\n",
      " [0.         0.         0.         ... 0.         0.         0.        ]\n",
      " ...\n",
      " [0.32256688 0.7030338  0.31980195 ... 0.         0.         0.        ]\n",
      " [0.32256688 0.7030338  0.31980195 ... 0.         0.         0.        ]\n",
      " [0.32256688 0.7030338  0.31980195 ... 0.         0.         0.        ]]\n"
     ]
    },
    {
     "data": {
      "text/plain": [
       "       interactionid  uid  iid         ts  rating\n",
       "5358            5358   59  177  875353569     3.0\n",
       "5359            5359   59  203  875353678     3.0\n",
       "5360            5360   59  153  875353678     4.0\n",
       "5361            5361   59   24  875353780     4.0\n",
       "5362            5362   59  403  875353813     3.0\n",
       "...              ...  ...  ...        ...     ...\n",
       "99995          99995  942   -1  893286638     4.0\n",
       "99996          99996  942   -1  893286638     3.0\n",
       "99997          99997  942   -1  893286638     3.0\n",
       "99998          99998  942   -1  893286638     4.0\n",
       "99999          99999  942   -1  893286638     4.0\n",
       "\n",
       "[11985 rows x 5 columns]"
      ]
     },
     "execution_count": 18,
     "metadata": {},
     "output_type": "execute_result"
    }
   ],
   "source": [
    "ul_data = evaluator.get_unlabeled_data(external_model_id)\n",
    "prediction = external_model.predict(data, ul_data)\n",
    "ul_data"
   ]
  },
  {
   "cell_type": "code",
   "execution_count": 19,
   "metadata": {},
   "outputs": [
    {
     "name": "stdout",
     "output_type": "stream",
     "text": [
      "<Compressed Sparse Row sparse matrix of dtype 'float64'\n",
      "\twith 23800 stored elements and shape (943, 1626)>\n",
      "  Coords\tValues\n",
      "  (1, 0)\t0.3225668800558629\n",
      "  (1, 1)\t0.7030338036916569\n",
      "  (1, 2)\t0.319801953521197\n",
      "  (1, 4)\t0.41592966376049456\n",
      "  (1, 7)\t0.8202355730958248\n",
      "  (1, 9)\t0.5709606125062033\n",
      "  (1, 11)\t0.4375877584470347\n",
      "  (1, 13)\t0.3906540484932286\n",
      "  (1, 14)\t0.3458052650680692\n",
      "  (1, 15)\t0.5095096209323567\n",
      "  (1, 24)\t0.5797000708818941\n",
      "  (1, 29)\t0.7977030926187081\n",
      "  (1, 35)\t0.3383659916086946\n",
      "  (1, 38)\t0.483799065955907\n",
      "  (1, 39)\t0.4829359209630438\n",
      "  (1, 40)\t0.7082225947963805\n",
      "  (1, 41)\t0.5150353637399789\n",
      "  (1, 45)\t0.36912577926891765\n",
      "  (1, 48)\t0.4043478708614003\n",
      "  (1, 50)\t0.544965334805722\n",
      "  (1, 56)\t0.4185168829903486\n",
      "  (1, 58)\t0.3856574121864831\n",
      "  (1, 60)\t0.4482886286041575\n",
      "  (1, 62)\t0.4306117204018804\n",
      "  (1, 70)\t0.3129822423770253\n",
      "  :\t:\n",
      "  (942, 412)\t0.3259256693650541\n",
      "  (942, 451)\t0.33558018355357316\n",
      "  (942, 474)\t0.3507734930609406\n",
      "  (942, 558)\t0.3592950670327293\n",
      "  (942, 570)\t0.3845506048979969\n",
      "  (942, 579)\t0.32428946239695244\n",
      "  (942, 585)\t0.32779152039155796\n",
      "  (942, 742)\t0.3429597255079225\n",
      "  (942, 988)\t0.4868397937527034\n",
      "  (942, 992)\t0.5045908935635331\n",
      "  (942, 995)\t0.4915347283062258\n",
      "  (942, 1048)\t0.48438240093854057\n",
      "  (942, 1222)\t0.434329059265322\n",
      "  (942, 1332)\t0.3916883951640193\n",
      "  (942, 1346)\t0.3607579210517793\n",
      "  (942, 1452)\t0.5032205533944092\n",
      "  (942, 1454)\t0.3560971312260129\n",
      "  (942, 1457)\t0.31620462018024903\n",
      "  (942, 1460)\t1.0\n",
      "  (942, 1467)\t0.608997036258018\n",
      "  (942, 1469)\t0.39361145615771276\n",
      "  (942, 1498)\t0.4005722016756449\n",
      "  (942, 1500)\t0.42732160207617276\n",
      "  (942, 1589)\t0.3354610038862981\n",
      "  (942, 1592)\t0.34730042156808816\n",
      "[[0.         0.         0.         ... 0.         0.         0.        ]\n",
      " [0.32256688 0.7030338  0.31980195 ... 0.         0.         0.        ]\n",
      " [0.         0.         0.         ... 0.         0.         0.        ]\n",
      " ...\n",
      " [0.32256688 0.7030338  0.31980195 ... 0.         0.         0.        ]\n",
      " [0.32256688 0.7030338  0.31980195 ... 0.         0.         0.        ]\n",
      " [0.32256688 0.7030338  0.31980195 ... 0.         0.         0.        ]]\n",
      "DEBUG - Submitting prediction for algorithm bdd640fb-0667-4ad1-9c80-317fa3b1799d\n",
      "DEBUG - Precision compute started - RecallK_100\n",
      "DEBUG - Number of users: 236\n",
      "DEBUG - Number of ground truth interactions: 11090\n",
      "DEBUG - Recall compute complete - RecallK_100\n",
      "DEBUG - Metric RecallK(timestamp_limit=890974923,K=100) created for algorithm decaypop_bdd640fb-0667-4ad1-9c80-317fa3b1799d\n",
      "DEBUG - Prediction evaluated for algorithm bdd640fb-0667-4ad1-9c80-317fa3b1799d complete\n",
      "INFO - Finished streaming\n",
      "WARNING - /Users/joshua/projects/fyp/streamsightv2/venv/lib/python3.12/site-packages/streamsight/evaluators/evaluator_stream.py:381: AlgorithmStatusWarning: Algorithm:bdd640fb-0667-4ad1-9c80-317fa3b1799d current status is READY. Algorithm has completed stream evaluation. No more data release available.\n",
      "  warn(AlgorithmStatusWarning(algo_id, status, \"complete\"))\n",
      "\n"
     ]
    }
   ],
   "source": [
    "print(prediction)\n",
    "print(prediction.toarray())\n",
    "evaluator.submit_prediction(external_model_id, prediction)"
   ]
  },
  {
   "cell_type": "markdown",
   "metadata": {},
   "source": [
    "# evaluate metrics"
   ]
  },
  {
   "cell_type": "code",
   "execution_count": 20,
   "metadata": {},
   "outputs": [
    {
     "data": {
      "text/plain": [
       "{'decaypop_bdd640fb-0667-4ad1-9c80-317fa3b1799d': <AlgorithmStateEnum.COMPLETED: 'COMPLETED'>}"
      ]
     },
     "execution_count": 20,
     "metadata": {},
     "output_type": "execute_result"
    }
   ],
   "source": [
    "evaluator.get_all_algorithm_status()"
   ]
  },
  {
   "cell_type": "code",
   "execution_count": 21,
   "metadata": {},
   "outputs": [
    {
     "data": {
      "text/html": [
       "<div>\n",
       "<style scoped>\n",
       "    .dataframe tbody tr th:only-of-type {\n",
       "        vertical-align: middle;\n",
       "    }\n",
       "\n",
       "    .dataframe tbody tr th {\n",
       "        vertical-align: top;\n",
       "    }\n",
       "\n",
       "    .dataframe thead th {\n",
       "        text-align: right;\n",
       "    }\n",
       "</style>\n",
       "<table border=\"1\" class=\"dataframe\">\n",
       "  <thead>\n",
       "    <tr style=\"text-align: right;\">\n",
       "      <th></th>\n",
       "      <th></th>\n",
       "      <th>macro_score</th>\n",
       "      <th>num_window</th>\n",
       "    </tr>\n",
       "    <tr>\n",
       "      <th>Algorithm</th>\n",
       "      <th>Metric</th>\n",
       "      <th></th>\n",
       "      <th></th>\n",
       "    </tr>\n",
       "  </thead>\n",
       "  <tbody>\n",
       "    <tr>\n",
       "      <th>decaypop_bdd640fb-0667-4ad1-9c80-317fa3b1799d</th>\n",
       "      <th>RecallK_100</th>\n",
       "      <td>0.334011</td>\n",
       "      <td>5</td>\n",
       "    </tr>\n",
       "  </tbody>\n",
       "</table>\n",
       "</div>"
      ],
      "text/plain": [
       "                                                           macro_score  \\\n",
       "Algorithm                                     Metric                     \n",
       "decaypop_bdd640fb-0667-4ad1-9c80-317fa3b1799d RecallK_100     0.334011   \n",
       "\n",
       "                                                           num_window  \n",
       "Algorithm                                     Metric                   \n",
       "decaypop_bdd640fb-0667-4ad1-9c80-317fa3b1799d RecallK_100           5  "
      ]
     },
     "execution_count": 21,
     "metadata": {},
     "output_type": "execute_result"
    }
   ],
   "source": [
    "evaluator.metric_results(\"macro\")"
   ]
  },
  {
   "cell_type": "code",
   "execution_count": 22,
   "metadata": {},
   "outputs": [
    {
     "data": {
      "text/html": [
       "<div>\n",
       "<style scoped>\n",
       "    .dataframe tbody tr th:only-of-type {\n",
       "        vertical-align: middle;\n",
       "    }\n",
       "\n",
       "    .dataframe tbody tr th {\n",
       "        vertical-align: top;\n",
       "    }\n",
       "\n",
       "    .dataframe thead th {\n",
       "        text-align: right;\n",
       "    }\n",
       "</style>\n",
       "<table border=\"1\" class=\"dataframe\">\n",
       "  <thead>\n",
       "    <tr style=\"text-align: right;\">\n",
       "      <th></th>\n",
       "      <th></th>\n",
       "      <th>micro_score</th>\n",
       "      <th>num_user</th>\n",
       "    </tr>\n",
       "    <tr>\n",
       "      <th>Algorithm</th>\n",
       "      <th>Metric</th>\n",
       "      <th></th>\n",
       "      <th></th>\n",
       "    </tr>\n",
       "  </thead>\n",
       "  <tbody>\n",
       "    <tr>\n",
       "      <th>decaypop_bdd640fb-0667-4ad1-9c80-317fa3b1799d</th>\n",
       "      <th>RecallK_100</th>\n",
       "      <td>0.337682</td>\n",
       "      <td>968</td>\n",
       "    </tr>\n",
       "  </tbody>\n",
       "</table>\n",
       "</div>"
      ],
      "text/plain": [
       "                                                          micro_score  \\\n",
       "Algorithm                                     Metric                    \n",
       "decaypop_bdd640fb-0667-4ad1-9c80-317fa3b1799d RecallK_100    0.337682   \n",
       "\n",
       "                                                           num_user  \n",
       "Algorithm                                     Metric                 \n",
       "decaypop_bdd640fb-0667-4ad1-9c80-317fa3b1799d RecallK_100       968  "
      ]
     },
     "execution_count": 22,
     "metadata": {},
     "output_type": "execute_result"
    }
   ],
   "source": [
    "evaluator.metric_results(\"micro\")\n"
   ]
  },
  {
   "cell_type": "code",
   "execution_count": 23,
   "metadata": {},
   "outputs": [
    {
     "data": {
      "text/html": [
       "<div>\n",
       "<style scoped>\n",
       "    .dataframe tbody tr th:only-of-type {\n",
       "        vertical-align: middle;\n",
       "    }\n",
       "\n",
       "    .dataframe tbody tr th {\n",
       "        vertical-align: top;\n",
       "    }\n",
       "\n",
       "    .dataframe thead th {\n",
       "        text-align: right;\n",
       "    }\n",
       "</style>\n",
       "<table border=\"1\" class=\"dataframe\">\n",
       "  <thead>\n",
       "    <tr style=\"text-align: right;\">\n",
       "      <th></th>\n",
       "      <th></th>\n",
       "      <th></th>\n",
       "      <th>user_id</th>\n",
       "      <th>score</th>\n",
       "    </tr>\n",
       "    <tr>\n",
       "      <th>Algorithm</th>\n",
       "      <th>Timestamp</th>\n",
       "      <th>Metric</th>\n",
       "      <th></th>\n",
       "      <th></th>\n",
       "    </tr>\n",
       "  </thead>\n",
       "  <tbody>\n",
       "    <tr>\n",
       "      <th rowspan=\"11\" valign=\"top\">decaypop_bdd640fb-0667-4ad1-9c80-317fa3b1799d</th>\n",
       "      <th rowspan=\"5\" valign=\"top\">t=880606923</th>\n",
       "      <th>RecallK_100</th>\n",
       "      <td>0</td>\n",
       "      <td>1.0</td>\n",
       "    </tr>\n",
       "    <tr>\n",
       "      <th>RecallK_100</th>\n",
       "      <td>1</td>\n",
       "      <td>0.4</td>\n",
       "    </tr>\n",
       "    <tr>\n",
       "      <th>RecallK_100</th>\n",
       "      <td>7</td>\n",
       "      <td>0.318182</td>\n",
       "    </tr>\n",
       "    <tr>\n",
       "      <th>RecallK_100</th>\n",
       "      <td>8</td>\n",
       "      <td>0.494949</td>\n",
       "    </tr>\n",
       "    <tr>\n",
       "      <th>RecallK_100</th>\n",
       "      <td>9</td>\n",
       "      <td>0.0</td>\n",
       "    </tr>\n",
       "    <tr>\n",
       "      <th>...</th>\n",
       "      <th>...</th>\n",
       "      <td>...</td>\n",
       "      <td>...</td>\n",
       "    </tr>\n",
       "    <tr>\n",
       "      <th rowspan=\"5\" valign=\"top\">t=890974923</th>\n",
       "      <th>RecallK_100</th>\n",
       "      <td>468</td>\n",
       "      <td>0.714286</td>\n",
       "    </tr>\n",
       "    <tr>\n",
       "      <th>RecallK_100</th>\n",
       "      <td>470</td>\n",
       "      <td>0.666667</td>\n",
       "    </tr>\n",
       "    <tr>\n",
       "      <th>RecallK_100</th>\n",
       "      <td>909</td>\n",
       "      <td>0.23</td>\n",
       "    </tr>\n",
       "    <tr>\n",
       "      <th>RecallK_100</th>\n",
       "      <td>490</td>\n",
       "      <td>0.4</td>\n",
       "    </tr>\n",
       "    <tr>\n",
       "      <th>RecallK_100</th>\n",
       "      <td>498</td>\n",
       "      <td>0.0</td>\n",
       "    </tr>\n",
       "  </tbody>\n",
       "</table>\n",
       "<p>968 rows × 2 columns</p>\n",
       "</div>"
      ],
      "text/plain": [
       "                                                                      user_id  \\\n",
       "Algorithm                                     Timestamp   Metric                \n",
       "decaypop_bdd640fb-0667-4ad1-9c80-317fa3b1799d t=880606923 RecallK_100       0   \n",
       "                                                          RecallK_100       1   \n",
       "                                                          RecallK_100       7   \n",
       "                                                          RecallK_100       8   \n",
       "                                                          RecallK_100       9   \n",
       "...                                                                       ...   \n",
       "                                              t=890974923 RecallK_100     468   \n",
       "                                                          RecallK_100     470   \n",
       "                                                          RecallK_100     909   \n",
       "                                                          RecallK_100     490   \n",
       "                                                          RecallK_100     498   \n",
       "\n",
       "                                                                          score  \n",
       "Algorithm                                     Timestamp   Metric                 \n",
       "decaypop_bdd640fb-0667-4ad1-9c80-317fa3b1799d t=880606923 RecallK_100       1.0  \n",
       "                                                          RecallK_100       0.4  \n",
       "                                                          RecallK_100  0.318182  \n",
       "                                                          RecallK_100  0.494949  \n",
       "                                                          RecallK_100       0.0  \n",
       "...                                                                         ...  \n",
       "                                              t=890974923 RecallK_100  0.714286  \n",
       "                                                          RecallK_100  0.666667  \n",
       "                                                          RecallK_100      0.23  \n",
       "                                                          RecallK_100       0.4  \n",
       "                                                          RecallK_100       0.0  \n",
       "\n",
       "[968 rows x 2 columns]"
      ]
     },
     "execution_count": 23,
     "metadata": {},
     "output_type": "execute_result"
    }
   ],
   "source": [
    "evaluator.metric_results(\"user\")"
   ]
  },
  {
   "cell_type": "code",
   "execution_count": 24,
   "metadata": {},
   "outputs": [
    {
     "data": {
      "text/html": [
       "<div>\n",
       "<style scoped>\n",
       "    .dataframe tbody tr th:only-of-type {\n",
       "        vertical-align: middle;\n",
       "    }\n",
       "\n",
       "    .dataframe tbody tr th {\n",
       "        vertical-align: top;\n",
       "    }\n",
       "\n",
       "    .dataframe thead th {\n",
       "        text-align: right;\n",
       "    }\n",
       "</style>\n",
       "<table border=\"1\" class=\"dataframe\">\n",
       "  <thead>\n",
       "    <tr style=\"text-align: right;\">\n",
       "      <th></th>\n",
       "      <th></th>\n",
       "      <th></th>\n",
       "      <th>window_score</th>\n",
       "      <th>num_user</th>\n",
       "    </tr>\n",
       "    <tr>\n",
       "      <th>Algorithm</th>\n",
       "      <th>Timestamp</th>\n",
       "      <th>Metric</th>\n",
       "      <th></th>\n",
       "      <th></th>\n",
       "    </tr>\n",
       "  </thead>\n",
       "  <tbody>\n",
       "    <tr>\n",
       "      <th rowspan=\"5\" valign=\"top\">decaypop_bdd640fb-0667-4ad1-9c80-317fa3b1799d</th>\n",
       "      <th>t=880606923</th>\n",
       "      <th>RecallK_100</th>\n",
       "      <td>0.318237</td>\n",
       "      <td>163</td>\n",
       "    </tr>\n",
       "    <tr>\n",
       "      <th>t=883198923</th>\n",
       "      <th>RecallK_100</th>\n",
       "      <td>0.309634</td>\n",
       "      <td>226</td>\n",
       "    </tr>\n",
       "    <tr>\n",
       "      <th>t=885790923</th>\n",
       "      <th>RecallK_100</th>\n",
       "      <td>0.293711</td>\n",
       "      <td>169</td>\n",
       "    </tr>\n",
       "    <tr>\n",
       "      <th>t=888382923</th>\n",
       "      <th>RecallK_100</th>\n",
       "      <td>0.342743</td>\n",
       "      <td>174</td>\n",
       "    </tr>\n",
       "    <tr>\n",
       "      <th>t=890974923</th>\n",
       "      <th>RecallK_100</th>\n",
       "      <td>0.405730</td>\n",
       "      <td>236</td>\n",
       "    </tr>\n",
       "  </tbody>\n",
       "</table>\n",
       "</div>"
      ],
      "text/plain": [
       "                                                                       window_score  \\\n",
       "Algorithm                                     Timestamp   Metric                      \n",
       "decaypop_bdd640fb-0667-4ad1-9c80-317fa3b1799d t=880606923 RecallK_100      0.318237   \n",
       "                                              t=883198923 RecallK_100      0.309634   \n",
       "                                              t=885790923 RecallK_100      0.293711   \n",
       "                                              t=888382923 RecallK_100      0.342743   \n",
       "                                              t=890974923 RecallK_100      0.405730   \n",
       "\n",
       "                                                                       num_user  \n",
       "Algorithm                                     Timestamp   Metric                 \n",
       "decaypop_bdd640fb-0667-4ad1-9c80-317fa3b1799d t=880606923 RecallK_100       163  \n",
       "                                              t=883198923 RecallK_100       226  \n",
       "                                              t=885790923 RecallK_100       169  \n",
       "                                              t=888382923 RecallK_100       174  \n",
       "                                              t=890974923 RecallK_100       236  "
      ]
     },
     "execution_count": 24,
     "metadata": {},
     "output_type": "execute_result"
    }
   ],
   "source": [
    "evaluator.metric_results(\"window\")"
   ]
  }
 ],
 "metadata": {
  "kernelspec": {
   "display_name": "venv",
   "language": "python",
   "name": "python3"
  },
  "language_info": {
   "codemirror_mode": {
    "name": "ipython",
    "version": 3
   },
   "file_extension": ".py",
   "mimetype": "text/x-python",
   "name": "python",
   "nbconvert_exporter": "python",
   "pygments_lexer": "ipython3",
   "version": "3.12.5"
  }
 },
 "nbformat": 4,
 "nbformat_minor": 2
}
