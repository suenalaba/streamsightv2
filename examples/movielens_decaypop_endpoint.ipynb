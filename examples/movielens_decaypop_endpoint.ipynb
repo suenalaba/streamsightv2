{
 "cells": [
  {
   "cell_type": "markdown",
   "metadata": {},
   "source": [
    "# MovieLens100k DecayPop Endpoint Flow"
   ]
  },
  {
   "cell_type": "code",
   "execution_count": null,
   "metadata": {},
   "outputs": [],
   "source": [
    "import pandas as pd"
   ]
  },
  {
   "cell_type": "code",
   "execution_count": null,
   "metadata": {},
   "outputs": [],
   "source": [
    "from streamsightv2.algorithms import DecayPopularity\n",
    "external_model = DecayPopularity(K=100)"
   ]
  },
  {
   "cell_type": "code",
   "execution_count": null,
   "metadata": {},
   "outputs": [],
   "source": [
    "# Replace with actual stream_id and algorithm_id\n",
    "stream_id =  \"184393a6-fbb9-4b91-9462-995a651cf129\"\n",
    "algorithm_id = \"bdd640fb-0667-4ad1-9c80-317fa3b1799d\""
   ]
  },
  {
   "cell_type": "markdown",
   "metadata": {},
   "source": [
    "# Iteration 1"
   ]
  },
  {
   "cell_type": "code",
   "execution_count": null,
   "metadata": {},
   "outputs": [],
   "source": [
    "import requests\n",
    "\n",
    "# Define the base URL and endpoint\n",
    "base_url = \"http://localhost:8000\"\n",
    "endpoint = \"/streams/{stream_id}/algorithms/{algorithm_id}/training-data\"\n",
    "\n",
    "\n",
    "\n",
    "# Construct the full URL\n",
    "url = f\"{base_url}{endpoint.format(stream_id=stream_id, algorithm_id=algorithm_id)}\"\n",
    "print(url)\n",
    "response = requests.get(url)\n",
    "print(response.status_code)\n",
    "print(response.content)\n",
    "training_df = pd.DataFrame(response.json().get('training_data'))\n",
    "shape = response.json().get('shape')\n"
   ]
  },
  {
   "cell_type": "code",
   "execution_count": null,
   "metadata": {},
   "outputs": [],
   "source": [
    "from streamsightv2.matrix import InteractionMatrix\n",
    "\n",
    "training_im = InteractionMatrix(training_df, item_ix='iid', user_ix='uid', timestamp_ix='ts', shape=shape)\n",
    "external_model.fit(training_im)"
   ]
  },
  {
   "cell_type": "code",
   "execution_count": null,
   "metadata": {},
   "outputs": [],
   "source": [
    "import requests\n",
    "\n",
    "# Define the base URL and endpoint\n",
    "base_url = \"http://localhost:8000\"\n",
    "endpoint = \"/streams/{stream_id}/algorithms/{algorithm_id}/unlabeled-data\"\n",
    "\n",
    "\n",
    "\n",
    "# Construct the full URL\n",
    "url = f\"{base_url}{endpoint.format(stream_id=stream_id, algorithm_id=algorithm_id)}\"\n",
    "print(url)\n",
    "response = requests.get(url)\n",
    "ul_df = pd.DataFrame(response.json().get('unlabeled_data'))\n",
    "shape = response.json().get('shape')\n",
    "ul_df"
   ]
  },
  {
   "cell_type": "code",
   "execution_count": null,
   "metadata": {},
   "outputs": [],
   "source": [
    "ul_im = InteractionMatrix(ul_df, item_ix='iid', user_ix='uid', timestamp_ix='ts', shape=shape)\n",
    "prediction = external_model.predict(training_im, ul_im)\n",
    "print(prediction.toarray())\n",
    "matrix_dict = {\n",
    "    'data': prediction.data.tolist(),\n",
    "    'indices': prediction.indices.tolist(),\n",
    "    'indptr': prediction.indptr.tolist(),\n",
    "    'shape': prediction.shape\n",
    "}\n",
    "\n",
    "\n"
   ]
  },
  {
   "cell_type": "code",
   "execution_count": null,
   "metadata": {},
   "outputs": [],
   "source": [
    "import requests\n",
    "\n",
    "# Define the base URL and endpoint\n",
    "base_url = \"http://localhost:8000\"\n",
    "endpoint = \"/streams/{stream_id}/algorithms/{algorithm_id}/predictions\"\n",
    "\n",
    "\n",
    "\n",
    "# Construct the full URL\n",
    "url = f\"{base_url}{endpoint.format(stream_id=stream_id, algorithm_id=algorithm_id)}\"\n",
    "print(url)\n",
    "response = requests.post(url, json=matrix_dict)\n",
    "print(response.status_code)\n",
    "print(response.content)"
   ]
  },
  {
   "cell_type": "code",
   "execution_count": null,
   "metadata": {},
   "outputs": [],
   "source": [
    "import requests\n",
    "\n",
    "# Define the base URL and endpoint\n",
    "base_url = \"http://localhost:8000\"\n",
    "endpoint = \"/streams/{stream_id}/algorithms/{algorithm_id}/is-completed\"\n",
    "\n",
    "\n",
    "\n",
    "# Construct the full URL\n",
    "url = f\"{base_url}{endpoint.format(stream_id=stream_id, algorithm_id=algorithm_id)}\"\n",
    "print(url)\n",
    "response = requests.get(url)\n",
    "print(response.content)"
   ]
  },
  {
   "cell_type": "code",
   "execution_count": null,
   "metadata": {},
   "outputs": [],
   "source": [
    "\n",
    "## Iteration 2"
   ]
  },
  {
   "cell_type": "code",
   "execution_count": null,
   "metadata": {},
   "outputs": [],
   "source": [
    "import requests\n",
    "\n",
    "# Define the base URL and endpoint\n",
    "base_url = \"http://localhost:8000\"\n",
    "endpoint = \"/streams/{stream_id}/algorithms/{algorithm_id}/training-data\"\n",
    "\n",
    "\n",
    "\n",
    "# Construct the full URL\n",
    "url = f\"{base_url}{endpoint.format(stream_id=stream_id, algorithm_id=algorithm_id)}\"\n",
    "print(url)\n",
    "response = requests.get(url)\n",
    "print(response.status_code)\n",
    "print(response.content)\n",
    "training_df = pd.DataFrame(response.json().get('training_data'))\n",
    "shape = response.json().get('shape')"
   ]
  },
  {
   "cell_type": "code",
   "execution_count": null,
   "metadata": {},
   "outputs": [],
   "source": [
    "from streamsightv2.matrix import InteractionMatrix\n",
    "\n",
    "training_im = InteractionMatrix(training_df, item_ix='iid', user_ix='uid', timestamp_ix='ts', shape=shape)\n",
    "external_model.fit(training_im)"
   ]
  },
  {
   "cell_type": "code",
   "execution_count": null,
   "metadata": {},
   "outputs": [],
   "source": [
    "# import requests\n",
    "\n",
    "# # Define the base URL and endpoint\n",
    "# base_url = \"http://localhost:8000\"\n",
    "# endpoint = \"/streams/{stream_id}/algorithms/{algorithm_id}/unlabeled-data\"\n",
    "\n",
    "\n",
    "\n",
    "# # Construct the full URL\n",
    "# url = f\"{base_url}{endpoint.format(stream_id=stream_id, algorithm_id=algorithm_id)}\"\n",
    "# print(url)\n",
    "# response = requests.get(url)\n",
    "# ul_df = pd.DataFrame(response.json().get('unlabeled_data'))\n",
    "# shape = response.json().get('shape')\n",
    "# ul_df"
   ]
  },
  {
   "cell_type": "code",
   "execution_count": null,
   "metadata": {},
   "outputs": [],
   "source": [
    "# ul_im = InteractionMatrix(ul_df, item_ix='iid', user_ix='uid', timestamp_ix='ts', shape=shape)\n",
    "# prediction = external_model.predict(ul_im)\n",
    "# print(prediction.toarray())\n",
    "# matrix_dict = {\n",
    "#     'data': prediction.data.tolist(),\n",
    "#     'indices': prediction.indices.tolist(),\n",
    "#     'indptr': prediction.indptr.tolist(),\n",
    "#     'shape': prediction.shape\n",
    "# }"
   ]
  },
  {
   "cell_type": "code",
   "execution_count": null,
   "metadata": {},
   "outputs": [],
   "source": [
    "predictions = external_model.predict(training_im)\n",
    "matrix_dict = {\n",
    "    'data': predictions.data.tolist(),\n",
    "    'indices': predictions.indices.tolist(),\n",
    "    'indptr': predictions.indptr.tolist(),\n",
    "    'shape': predictions.shape\n",
    "}"
   ]
  },
  {
   "cell_type": "code",
   "execution_count": null,
   "metadata": {},
   "outputs": [],
   "source": [
    "import requests\n",
    "\n",
    "# Define the base URL and endpoint\n",
    "base_url = \"http://localhost:8000\"\n",
    "endpoint = \"/streams/{stream_id}/algorithms/{algorithm_id}/predictions\"\n",
    "\n",
    "\n",
    "\n",
    "# Construct the full URL\n",
    "url = f\"{base_url}{endpoint.format(stream_id=stream_id, algorithm_id=algorithm_id)}\"\n",
    "print(url)\n",
    "response = requests.post(url, json=matrix_dict)\n",
    "print(response.status_code)\n",
    "print(response.content)"
   ]
  },
  {
   "cell_type": "code",
   "execution_count": null,
   "metadata": {},
   "outputs": [],
   "source": [
    "import requests\n",
    "\n",
    "# Define the base URL and endpoint\n",
    "base_url = \"http://localhost:8000\"\n",
    "endpoint = \"/streams/{stream_id}/algorithms/{algorithm_id}/is-completed\"\n",
    "\n",
    "\n",
    "\n",
    "# Construct the full URL\n",
    "url = f\"{base_url}{endpoint.format(stream_id=stream_id, algorithm_id=algorithm_id)}\"\n",
    "print(url)\n",
    "response = requests.get(url)\n",
    "print(response.content)"
   ]
  },
  {
   "cell_type": "markdown",
   "metadata": {},
   "source": [
    "## Iteration 3\n"
   ]
  },
  {
   "cell_type": "code",
   "execution_count": null,
   "metadata": {},
   "outputs": [],
   "source": [
    "import requests\n",
    "\n",
    "# Define the base URL and endpoint\n",
    "base_url = \"http://localhost:8000\"\n",
    "endpoint = \"/streams/{stream_id}/algorithms/{algorithm_id}/training-data\"\n",
    "\n",
    "\n",
    "\n",
    "# Construct the full URL\n",
    "url = f\"{base_url}{endpoint.format(stream_id=stream_id, algorithm_id=algorithm_id)}\"\n",
    "print(url)\n",
    "response = requests.get(url)\n",
    "print(response.status_code)\n",
    "print(response.content)\n",
    "training_df = pd.DataFrame(response.json().get('training_data'))\n",
    "shape = response.json().get('shape')"
   ]
  },
  {
   "cell_type": "code",
   "execution_count": null,
   "metadata": {},
   "outputs": [],
   "source": [
    "from streamsightv2.matrix import InteractionMatrix\n",
    "\n",
    "training_im = InteractionMatrix(training_df, item_ix='iid', user_ix='uid', timestamp_ix='ts', shape=shape)\n",
    "external_model.fit(training_im)"
   ]
  },
  {
   "cell_type": "code",
   "execution_count": null,
   "metadata": {},
   "outputs": [],
   "source": [
    "# import requests\n",
    "\n",
    "# # Define the base URL and endpoint\n",
    "# base_url = \"http://localhost:8000\"\n",
    "# endpoint = \"/streams/{stream_id}/algorithms/{algorithm_id}/unlabeled-data\"\n",
    "\n",
    "\n",
    "\n",
    "# # Construct the full URL\n",
    "# url = f\"{base_url}{endpoint.format(stream_id=stream_id, algorithm_id=algorithm_id)}\"\n",
    "# print(url)\n",
    "# response = requests.get(url)\n",
    "# ul_df = pd.DataFrame(response.json().get('unlabeled_data'))\n",
    "# shape = response.json().get('shape')\n",
    "# ul_df"
   ]
  },
  {
   "cell_type": "code",
   "execution_count": null,
   "metadata": {},
   "outputs": [],
   "source": [
    "# ul_im = InteractionMatrix(ul_df, item_ix='iid', user_ix='uid', timestamp_ix='ts', shape=shape)\n",
    "# prediction = external_model.predict(ul_im)\n",
    "# print(prediction.toarray())\n",
    "# matrix_dict = {\n",
    "#     'data': prediction.data.tolist(),\n",
    "#     'indices': prediction.indices.tolist(),\n",
    "#     'indptr': prediction.indptr.tolist(),\n",
    "#     'shape': prediction.shape\n",
    "# }"
   ]
  },
  {
   "cell_type": "code",
   "execution_count": null,
   "metadata": {},
   "outputs": [],
   "source": [
    "predictions = external_model.predict(training_im)\n",
    "matrix_dict = {\n",
    "    'data': predictions.data.tolist(),\n",
    "    'indices': predictions.indices.tolist(),\n",
    "    'indptr': predictions.indptr.tolist(),\n",
    "    'shape': predictions.shape\n",
    "}"
   ]
  },
  {
   "cell_type": "code",
   "execution_count": null,
   "metadata": {},
   "outputs": [],
   "source": [
    "import requests\n",
    "\n",
    "# Define the base URL and endpoint\n",
    "base_url = \"http://localhost:8000\"\n",
    "endpoint = \"/streams/{stream_id}/algorithms/{algorithm_id}/predictions\"\n",
    "\n",
    "\n",
    "\n",
    "# Construct the full URL\n",
    "url = f\"{base_url}{endpoint.format(stream_id=stream_id, algorithm_id=algorithm_id)}\"\n",
    "print(url)\n",
    "response = requests.post(url, json=matrix_dict)\n",
    "print(response.status_code)\n",
    "print(response.content)"
   ]
  },
  {
   "cell_type": "code",
   "execution_count": null,
   "metadata": {},
   "outputs": [],
   "source": [
    "import requests\n",
    "\n",
    "# Define the base URL and endpoint\n",
    "base_url = \"http://localhost:8000\"\n",
    "endpoint = \"/streams/{stream_id}/algorithms/{algorithm_id}/is-completed\"\n",
    "\n",
    "\n",
    "\n",
    "# Construct the full URL\n",
    "url = f\"{base_url}{endpoint.format(stream_id=stream_id, algorithm_id=algorithm_id)}\"\n",
    "print(url)\n",
    "response = requests.get(url)\n",
    "print(response.content)"
   ]
  },
  {
   "cell_type": "code",
   "execution_count": null,
   "metadata": {},
   "outputs": [],
   "source": [
    "import requests\n",
    "\n",
    "# Define the base URL and endpoint\n",
    "base_url = \"http://localhost:8000\"\n",
    "endpoint = \"/streams/{stream_id}/metrics\"\n",
    "\n",
    "\n",
    "\n",
    "# Construct the full URL\n",
    "url = f\"{base_url}{endpoint.format(stream_id=stream_id)}\"\n",
    "print(url)\n",
    "response = requests.get(url)\n",
    "print(response.content)"
   ]
  },
  {
   "cell_type": "code",
   "execution_count": null,
   "metadata": {},
   "outputs": [],
   "source": [
    "# import json\n",
    "response_data = response.json()\n",
    "# Display Micro Metrics\n",
    "print(\"Micro Metrics:\")\n",
    "for metric in response_data[\"micro_metrics\"]:\n",
    "    print(f\"Algorithm: {metric['algorithm_name']} (ID: {metric['algorithm_id']})\")\n",
    "    print(f\"  Metric: {metric['metric']}\")\n",
    "    print(f\"  Micro Score: {metric['micro_score']}\")\n",
    "    print(f\"  Number of Users: {metric['num_user']}\\n\")\n",
    "\n",
    "# Display Macro Metrics\n",
    "print(\"Macro Metrics:\")\n",
    "for metric in response_data[\"macro_metrics\"]:\n",
    "    print(f\"Algorithm: {metric['algorithm_name']} (ID: {metric['algorithm_id']})\")\n",
    "    print(f\"  Metric: {metric['metric']}\")\n",
    "    print(f\"  Macro Score: {metric['macro_score']}\")\n",
    "    print(f\"  Number of Windows: {metric['num_window']}\\n\")"
   ]
  }
 ],
 "metadata": {
  "kernelspec": {
   "display_name": "venv",
   "language": "python",
   "name": "python3"
  },
  "language_info": {
   "codemirror_mode": {
    "name": "ipython",
    "version": 3
   },
   "file_extension": ".py",
   "mimetype": "text/x-python",
   "name": "python",
   "nbconvert_exporter": "python",
   "pygments_lexer": "ipython3",
   "version": "3.12.5"
  }
 },
 "nbformat": 4,
 "nbformat_minor": 2
}
