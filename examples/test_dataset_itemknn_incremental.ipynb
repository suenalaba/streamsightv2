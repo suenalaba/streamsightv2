{
 "cells": [
  {
   "cell_type": "markdown",
   "metadata": {},
   "source": [
    "# Item KNN Incremental Algorithm on Test Dataset"
   ]
  },
  {
   "cell_type": "code",
   "execution_count": null,
   "metadata": {},
   "outputs": [
    {
     "name": "stdout",
     "output_type": "stream",
     "text": [
      "INFO - streamsight package loaded.\n",
      "WARNING - /Users/joshua/projects/fyp/streamsightv2/venv/lib/python3.12/site-packages/tqdm/auto.py:21: TqdmWarning: IProgress not found. Please update jupyter and ipywidgets. See https://ipywidgets.readthedocs.io/en/stable/user_install.html\n",
      "  from .autonotebook import tqdm as notebook_tqdm\n",
      "\n",
      "DEBUG - TestDataset being initialized with 'data' as the base path.\n",
      "DEBUG - TestDataset is initialized.\n",
      "INFO - TestDataset is loading dataset...\n",
      "DEBUG - TestDataset applying filters set.\n",
      "DEBUG - \tinteractions before preprocess: 13\n",
      "DEBUG - \titems before preprocess: 3\n",
      "DEBUG - \tusers before preprocess: 5\n",
      "DEBUG - \tinteractions after preprocess: 13\n",
      "DEBUG - \titems after preprocess: 3\n",
      "DEBUG - \tusers after preprocess: 5\n",
      "INFO - TestDataset dataset loaded - Took 0.0129s\n",
      "DEBUG - Splitting data...\n",
      "DEBUG - Performing lt(t, 2147483647)\n",
      "DEBUG - Performing lt(t, 4)\n",
      "DEBUG - Performing ge(t, 4)\n",
      "DEBUG - TimestampSplitter(t=4,t_lower=None,t_upper=None) has complete split\n"
     ]
    },
    {
     "name": "stderr",
     "output_type": "stream",
     "text": [
      "  0%|          | 0/2 [00:00<?, ?it/s]"
     ]
    },
    {
     "name": "stdout",
     "output_type": "stream",
     "text": [
      "DEBUG - NPastInteractionTimestampSplitter(t=4,t_lower=None,t_upper=3,n_seq_data=0,include_all_past_data=False) - Updating split point to t=4\n",
      "DEBUG - Performing lt(t, 7)\n",
      "DEBUG - Performing ge(t, 4)\n",
      "DEBUG - Performing get_user_n_last_interaction comparison\n",
      "DEBUG - NPastInteractionTimestampSplitter(t=4,t_lower=None,t_upper=3,n_seq_data=0,include_all_past_data=False) has complete split\n",
      "INFO - Split at time 4 resulted in empty unlabelled testing samples.\n",
      "DEBUG - NPastInteractionTimestampSplitter(t=4,t_lower=None,t_upper=3,n_seq_data=0,include_all_past_data=False) - Updating split point to t=7\n",
      "DEBUG - Performing lt(t, 10)\n",
      "DEBUG - Performing ge(t, 7)\n",
      "DEBUG - Performing get_user_n_last_interaction comparison\n",
      "DEBUG - NPastInteractionTimestampSplitter(t=7,t_lower=None,t_upper=3,n_seq_data=0,include_all_past_data=False) has complete split\n",
      "INFO - Split at time 7 resulted in empty unlabelled testing samples.\n",
      "DEBUG - NPastInteractionTimestampSplitter(t=7,t_lower=None,t_upper=3,n_seq_data=0,include_all_past_data=False) - Updating split point to t=10\n",
      "DEBUG - Performing lt(t, 13)\n",
      "DEBUG - Performing ge(t, 10)\n",
      "DEBUG - Performing get_user_n_last_interaction comparison\n",
      "DEBUG - NPastInteractionTimestampSplitter(t=10,t_lower=None,t_upper=3,n_seq_data=0,include_all_past_data=False) has complete split\n",
      "INFO - Split at time 10 resulted in empty unlabelled testing samples.\n"
     ]
    },
    {
     "name": "stderr",
     "output_type": "stream",
     "text": [
      "3it [00:00, 61.02it/s]               "
     ]
    },
    {
     "name": "stdout",
     "output_type": "stream",
     "text": [
      "INFO - Finished split with window size 3 seconds. Number of splits: 3 in total.\n",
      "INFO - SlidingWindowSetting data split - Took 0.0852s\n",
      "DEBUG - Checking split attribute and sizes.\n",
      "DEBUG - Checking split attributes.\n",
      "DEBUG - Split attributes are set.\n",
      "DEBUG - Checking size of split sets.\n",
      "DEBUG - Size of split sets are checked.\n",
      "INFO - SlidingWindowSetting data split complete.\n"
     ]
    },
    {
     "name": "stderr",
     "output_type": "stream",
     "text": [
      "\n"
     ]
    }
   ],
   "source": [
    "k = 2\n",
    "from streamsightv2.datasets import TestDataset\n",
    "from streamsightv2.settings import SlidingWindowSetting\n",
    "dataset = TestDataset()\n",
    "data = dataset.load()\n",
    "setting_window = SlidingWindowSetting(\n",
    "    4,\n",
    "    3,\n",
    "    0,\n",
    "    k\n",
    ")\n",
    "setting_window.split(data)"
   ]
  },
  {
   "cell_type": "code",
   "execution_count": 2,
   "metadata": {},
   "outputs": [
    {
     "data": {
      "text/html": [
       "<div>\n",
       "<style scoped>\n",
       "    .dataframe tbody tr th:only-of-type {\n",
       "        vertical-align: middle;\n",
       "    }\n",
       "\n",
       "    .dataframe tbody tr th {\n",
       "        vertical-align: top;\n",
       "    }\n",
       "\n",
       "    .dataframe thead th {\n",
       "        text-align: right;\n",
       "    }\n",
       "</style>\n",
       "<table border=\"1\" class=\"dataframe\">\n",
       "  <thead>\n",
       "    <tr style=\"text-align: right;\">\n",
       "      <th></th>\n",
       "      <th>interactionid</th>\n",
       "      <th>uid</th>\n",
       "      <th>iid</th>\n",
       "      <th>ts</th>\n",
       "      <th>rating</th>\n",
       "    </tr>\n",
       "  </thead>\n",
       "  <tbody>\n",
       "    <tr>\n",
       "      <th>0</th>\n",
       "      <td>0</td>\n",
       "      <td>0</td>\n",
       "      <td>0</td>\n",
       "      <td>0</td>\n",
       "      <td>1</td>\n",
       "    </tr>\n",
       "    <tr>\n",
       "      <th>1</th>\n",
       "      <td>1</td>\n",
       "      <td>1</td>\n",
       "      <td>0</td>\n",
       "      <td>1</td>\n",
       "      <td>2</td>\n",
       "    </tr>\n",
       "    <tr>\n",
       "      <th>2</th>\n",
       "      <td>2</td>\n",
       "      <td>2</td>\n",
       "      <td>1</td>\n",
       "      <td>2</td>\n",
       "      <td>3</td>\n",
       "    </tr>\n",
       "    <tr>\n",
       "      <th>3</th>\n",
       "      <td>3</td>\n",
       "      <td>0</td>\n",
       "      <td>2</td>\n",
       "      <td>3</td>\n",
       "      <td>4</td>\n",
       "    </tr>\n",
       "    <tr>\n",
       "      <th>4</th>\n",
       "      <td>4</td>\n",
       "      <td>1</td>\n",
       "      <td>1</td>\n",
       "      <td>4</td>\n",
       "      <td>5</td>\n",
       "    </tr>\n",
       "    <tr>\n",
       "      <th>5</th>\n",
       "      <td>5</td>\n",
       "      <td>1</td>\n",
       "      <td>2</td>\n",
       "      <td>5</td>\n",
       "      <td>1</td>\n",
       "    </tr>\n",
       "    <tr>\n",
       "      <th>6</th>\n",
       "      <td>6</td>\n",
       "      <td>3</td>\n",
       "      <td>1</td>\n",
       "      <td>6</td>\n",
       "      <td>2</td>\n",
       "    </tr>\n",
       "    <tr>\n",
       "      <th>7</th>\n",
       "      <td>7</td>\n",
       "      <td>2</td>\n",
       "      <td>0</td>\n",
       "      <td>7</td>\n",
       "      <td>3</td>\n",
       "    </tr>\n",
       "    <tr>\n",
       "      <th>8</th>\n",
       "      <td>8</td>\n",
       "      <td>2</td>\n",
       "      <td>2</td>\n",
       "      <td>8</td>\n",
       "      <td>4</td>\n",
       "    </tr>\n",
       "    <tr>\n",
       "      <th>9</th>\n",
       "      <td>9</td>\n",
       "      <td>3</td>\n",
       "      <td>2</td>\n",
       "      <td>9</td>\n",
       "      <td>5</td>\n",
       "    </tr>\n",
       "    <tr>\n",
       "      <th>10</th>\n",
       "      <td>10</td>\n",
       "      <td>4</td>\n",
       "      <td>0</td>\n",
       "      <td>9</td>\n",
       "      <td>1</td>\n",
       "    </tr>\n",
       "    <tr>\n",
       "      <th>11</th>\n",
       "      <td>11</td>\n",
       "      <td>4</td>\n",
       "      <td>1</td>\n",
       "      <td>10</td>\n",
       "      <td>2</td>\n",
       "    </tr>\n",
       "    <tr>\n",
       "      <th>12</th>\n",
       "      <td>12</td>\n",
       "      <td>4</td>\n",
       "      <td>2</td>\n",
       "      <td>10</td>\n",
       "      <td>3</td>\n",
       "    </tr>\n",
       "  </tbody>\n",
       "</table>\n",
       "</div>"
      ],
      "text/plain": [
       "    interactionid  uid  iid  ts  rating\n",
       "0               0    0    0   0       1\n",
       "1               1    1    0   1       2\n",
       "2               2    2    1   2       3\n",
       "3               3    0    2   3       4\n",
       "4               4    1    1   4       5\n",
       "5               5    1    2   5       1\n",
       "6               6    3    1   6       2\n",
       "7               7    2    0   7       3\n",
       "8               8    2    2   8       4\n",
       "9               9    3    2   9       5\n",
       "10             10    4    0   9       1\n",
       "11             11    4    1  10       2\n",
       "12             12    4    2  10       3"
      ]
     },
     "execution_count": 2,
     "metadata": {},
     "output_type": "execute_result"
    }
   ],
   "source": [
    "data._df"
   ]
  },
  {
   "cell_type": "code",
   "execution_count": null,
   "metadata": {},
   "outputs": [],
   "source": [
    "from streamsightv2.evaluators import EvaluatorStreamerBuilder\n",
    "\n",
    "builder = EvaluatorStreamerBuilder()\n",
    "builder.add_setting(setting_window)\n",
    "builder.set_metric_K(k)\n",
    "# builder.add_metric(\"PrecisionK\")\n",
    "builder.add_metric(\"RecallK\")\n",
    "evaluator = builder.build()"
   ]
  },
  {
   "cell_type": "code",
   "execution_count": null,
   "metadata": {},
   "outputs": [
    {
     "name": "stdout",
     "output_type": "stream",
     "text": [
      "INFO - Registering algorithm name itemknn_incremental with ID: bdd640fb-0667-4ad1-9c80-317fa3b1799d\n",
      "DEBUG - Algorithm bdd640fb-0667-4ad1-9c80-317fa3b1799d registered\n",
      "bdd640fb-0667-4ad1-9c80-317fa3b1799d\n"
     ]
    }
   ],
   "source": [
    "from streamsightv2.algorithms import ItemKNNIncremental\n",
    "# from recpack.algorithms import Popularity\n",
    "external_model = ItemKNNIncremental(K=2)\n",
    "# external_model = ItemKNNIncremental(K=10)\n",
    "external_model_id = evaluator.register_algorithm(algorithm_name=\"itemknn_incremental\")\n",
    "print(external_model_id)"
   ]
  },
  {
   "cell_type": "code",
   "execution_count": 5,
   "metadata": {},
   "outputs": [
    {
     "name": "stdout",
     "output_type": "stream",
     "text": [
      "DEBUG - Resetting data generators.\n",
      "DEBUG - Data generators are reset.\n",
      "DEBUG - Preparing evaluator for streaming\n",
      "DEBUG - (user x item) shape defined is (3, 3)\n",
      "DEBUG - Shape of dataframe stored in matrix was (4, 5) before masking\n",
      "DEBUG - Shape of dataframe stored in matrix is now (4, 5) after masking\n",
      "DEBUG - Final (user x item) shape defined is (3, 3)\n",
      "DEBUG - Caching evaluation data for step 1\n",
      "DEBUG - (user x item) shape defined is (3, 3)\n",
      "DEBUG - Shape of dataframe stored in matrix was (3, 5) before masking\n",
      "DEBUG - Shape of dataframe stored in matrix is now (3, 5) after masking\n",
      "DEBUG - Final (user x item) shape defined is (3, 3)\n",
      "DEBUG - (user x item) shape defined is (3, 3)\n",
      "DEBUG - Shape of dataframe stored in matrix was (3, 5) before masking\n",
      "DEBUG - Shape of dataframe stored in matrix is now (3, 5) after masking\n",
      "DEBUG - Final (user x item) shape defined is (4, 3)\n",
      "DEBUG - Data cached for step 1 complete\n"
     ]
    }
   ],
   "source": [
    "evaluator.start_stream()"
   ]
  },
  {
   "cell_type": "markdown",
   "metadata": {},
   "source": [
    "# Iteration 1"
   ]
  },
  {
   "cell_type": "code",
   "execution_count": 6,
   "metadata": {},
   "outputs": [
    {
     "name": "stdout",
     "output_type": "stream",
     "text": [
      "DEBUG - Getting data for algorithm bdd640fb-0667-4ad1-9c80-317fa3b1799d\n",
      "Training data:  [[1 0 1]\n",
      " [1 0 0]\n",
      " [0 1 0]]\n",
      "Item similarities:  [[0.         0.         0.70710678]\n",
      " [0.         0.         0.        ]\n",
      " [0.70710678 0.         0.        ]]\n",
      "Item similarities after get_top_K_values:  [[0.         0.         0.70710678]\n",
      " [0.         0.         0.        ]\n",
      " [0.70710678 0.         0.        ]]\n",
      "WARNING - /Users/joshua/projects/fyp/streamsightv2/venv/lib/python3.12/site-packages/streamsight/algorithms/base.py:315: UserWarning: ItemKNNIncremental missing similar items for 1 items.\n",
      "  warn(f\"{self.name} missing similar items for {missing} items.\")\n",
      "\n",
      "DEBUG - Fitting ItemKNNIncremental complete - Took 0.0065s\n"
     ]
    },
    {
     "data": {
      "text/plain": [
       "   interactionid  uid  iid  ts  rating\n",
       "0              0    0    0   0       1\n",
       "1              1    1    0   1       2\n",
       "2              2    2    1   2       3\n",
       "3              3    0    2   3       4"
      ]
     },
     "execution_count": 6,
     "metadata": {},
     "output_type": "execute_result"
    }
   ],
   "source": [
    "data = evaluator.get_data(external_model_id)\n",
    "external_model.fit(data)\n",
    "data"
   ]
  },
  {
   "cell_type": "code",
   "execution_count": 7,
   "metadata": {},
   "outputs": [
    {
     "name": "stdout",
     "output_type": "stream",
     "text": [
      "DEBUG - Getting unlabeled data for algorithm bdd640fb-0667-4ad1-9c80-317fa3b1799d\n",
      "WARNING - /Users/joshua/projects/fyp/streamsightv2/venv/lib/python3.12/site-packages/streamsight/algorithms/base.py:315: UserWarning: ItemKNNIncremental missing similar items for 1 items.\n",
      "  warn(f\"{self.name} missing similar items for {missing} items.\")\n",
      "\n",
      "DEBUG - Performing items_in comparison\n",
      "In ItemKNNIncremental _predict:  [[0.70710678 0.         0.70710678]\n",
      " [0.         0.         0.70710678]\n",
      " [0.         0.         0.        ]]\n",
      "Max user ID:  4\n",
      "Max item ID:  0\n",
      "X.shape:  (3, 3)\n",
      "Intended shape:  (4, 3)\n",
      "Predict frame:     interactionid  uid  iid  ts  rating\n",
      "4              4    1   -1   4       5\n",
      "5              5    1   -1   5       1\n",
      "6              6    3   -1   6       2\n",
      "Known user ID:  3\n",
      "Known item ID:  3\n",
      "X_pred after adding rows:  [[0.70710678 0.         0.70710678]\n",
      " [0.         0.         0.70710678]\n",
      " [0.         0.         0.        ]\n",
      " [0.         0.         0.        ]]\n",
      "DEBUG - Padding user ID in range(3, 4) with items\n",
      "To predict:  uid\n",
      "1    2\n",
      "3    1\n",
      "Name: count, dtype: int64\n",
      "Popular items:  [1.  0.  0.5]\n",
      "WARNING - /Users/joshua/projects/fyp/streamsightv2/venv/lib/python3.12/site-packages/scipy/sparse/_index.py:151: SparseEfficiencyWarning: Changing the sparsity structure of a csr_matrix is expensive. lil and dok are more efficient.\n",
      "  self._set_arrayXarray(i, j, x)\n",
      "\n",
      "X_pred after padding:  [[0.70710678 0.         0.70710678]\n",
      " [0.         0.         0.70710678]\n",
      " [0.         0.         0.        ]\n",
      " [1.         0.         0.5       ]]\n",
      "DEBUG - Padding by ItemKNNIncremental completed\n"
     ]
    },
    {
     "data": {
      "text/plain": [
       "   interactionid  uid  iid  ts  rating\n",
       "4              4    1   -1   4       5\n",
       "5              5    1   -1   5       1\n",
       "6              6    3   -1   6       2"
      ]
     },
     "execution_count": 7,
     "metadata": {},
     "output_type": "execute_result"
    }
   ],
   "source": [
    "ul_data = evaluator.get_unlabeled_data(external_model_id)\n",
    "prediction = external_model.predict(data, ul_data)\n",
    "ul_data"
   ]
  },
  {
   "cell_type": "code",
   "execution_count": 8,
   "metadata": {},
   "outputs": [
    {
     "name": "stdout",
     "output_type": "stream",
     "text": [
      "<Compressed Sparse Row sparse matrix of dtype 'float64'\n",
      "\twith 6 stored elements and shape (4, 3)>\n",
      "  Coords\tValues\n",
      "  (0, 0)\t0.7071067811865475\n",
      "  (0, 2)\t0.7071067811865475\n",
      "  (1, 2)\t0.7071067811865475\n",
      "  (3, 0)\t1.0\n",
      "  (3, 1)\t0.0\n",
      "  (3, 2)\t0.5\n",
      "[[0.70710678 0.         0.70710678]\n",
      " [0.         0.         0.70710678]\n",
      " [0.         0.         0.        ]\n",
      " [1.         0.         0.5       ]]\n",
      "DEBUG - Submitting prediction for algorithm bdd640fb-0667-4ad1-9c80-317fa3b1799d\n",
      "DEBUG - Precision compute started - RecallK_2\n",
      "DEBUG - Number of users: 2\n",
      "DEBUG - Number of ground truth interactions: 3\n",
      "DEBUG - Recall compute complete - RecallK_2\n",
      "DEBUG - Metric RecallK(timestamp_limit=4,K=2) created for algorithm itemknn_incremental_bdd640fb-0667-4ad1-9c80-317fa3b1799d\n",
      "DEBUG - Prediction evaluated for algorithm bdd640fb-0667-4ad1-9c80-317fa3b1799d complete\n"
     ]
    }
   ],
   "source": [
    "print(prediction)\n",
    "print(prediction.toarray())\n",
    "evaluator.submit_prediction(external_model_id, prediction)"
   ]
  },
  {
   "cell_type": "markdown",
   "metadata": {},
   "source": [
    "# Iteration 2"
   ]
  },
  {
   "cell_type": "code",
   "execution_count": 9,
   "metadata": {},
   "outputs": [
    {
     "name": "stdout",
     "output_type": "stream",
     "text": [
      "DEBUG - Getting data for algorithm bdd640fb-0667-4ad1-9c80-317fa3b1799d\n",
      "DEBUG - (user x item) shape defined is (4, 3)\n",
      "DEBUG - Shape of dataframe stored in matrix was (3, 5) before masking\n",
      "DEBUG - Shape of dataframe stored in matrix is now (3, 5) after masking\n",
      "DEBUG - Final (user x item) shape defined is (4, 3)\n",
      "DEBUG - Caching evaluation data for step 2\n",
      "DEBUG - (user x item) shape defined is (4, 3)\n",
      "DEBUG - Shape of dataframe stored in matrix was (4, 5) before masking\n",
      "DEBUG - Shape of dataframe stored in matrix is now (4, 5) after masking\n",
      "DEBUG - Final (user x item) shape defined is (4, 3)\n",
      "DEBUG - (user x item) shape defined is (4, 3)\n",
      "DEBUG - Shape of dataframe stored in matrix was (4, 5) before masking\n",
      "DEBUG - Shape of dataframe stored in matrix is now (4, 5) after masking\n",
      "DEBUG - Final (user x item) shape defined is (5, 3)\n",
      "DEBUG - Data cached for step 2 complete\n",
      "Training data:  [[1. 0. 1.]\n",
      " [1. 1. 1.]\n",
      " [0. 1. 0.]\n",
      " [0. 1. 0.]]\n",
      "Item similarities:  [[0.         0.40824829 1.        ]\n",
      " [0.40824829 0.         0.40824829]\n",
      " [1.         0.40824829 0.        ]]\n",
      "Item similarities after get_top_K_values:  [[0.         0.40824829 1.        ]\n",
      " [0.40824829 0.         0.40824829]\n",
      " [1.         0.40824829 0.        ]]\n",
      "DEBUG - Fitting ItemKNNIncremental complete - Took 0.00532s\n"
     ]
    },
    {
     "data": {
      "text/plain": [
       "   interactionid  uid  iid  ts  rating\n",
       "4              4    1    1   4       5\n",
       "5              5    1    2   5       1\n",
       "6              6    3    1   6       2"
      ]
     },
     "execution_count": 9,
     "metadata": {},
     "output_type": "execute_result"
    }
   ],
   "source": [
    "data = evaluator.get_data(external_model_id)\n",
    "external_model.fit(data)\n",
    "data"
   ]
  },
  {
   "cell_type": "code",
   "execution_count": 10,
   "metadata": {},
   "outputs": [
    {
     "name": "stdout",
     "output_type": "stream",
     "text": [
      "DEBUG - Getting unlabeled data for algorithm bdd640fb-0667-4ad1-9c80-317fa3b1799d\n",
      "DEBUG - Performing items_in comparison\n",
      "In ItemKNNIncremental _predict:  [[1.         0.81649658 1.        ]\n",
      " [1.40824829 0.81649658 1.40824829]\n",
      " [0.40824829 0.         0.40824829]\n",
      " [0.40824829 0.         0.40824829]]\n",
      "Max user ID:  5\n",
      "Max item ID:  0\n",
      "X.shape:  (4, 3)\n",
      "Intended shape:  (5, 3)\n",
      "Predict frame:      interactionid  uid  iid  ts  rating\n",
      "7               7    2   -1   7       3\n",
      "8               8    2   -1   8       4\n",
      "9               9    3   -1   9       5\n",
      "10             10    4   -1   9       1\n",
      "Known user ID:  4\n",
      "Known item ID:  3\n",
      "X_pred after adding rows:  [[1.         0.81649658 1.        ]\n",
      " [1.40824829 0.81649658 1.40824829]\n",
      " [0.40824829 0.         0.40824829]\n",
      " [0.40824829 0.         0.40824829]\n",
      " [0.         0.         0.        ]]\n",
      "DEBUG - Padding user ID in range(4, 5) with items\n",
      "To predict:  uid\n",
      "2    2\n",
      "3    1\n",
      "4    1\n",
      "Name: count, dtype: int64\n",
      "Popular items:  [0.  1.  0.5]\n",
      "WARNING - /Users/joshua/projects/fyp/streamsightv2/venv/lib/python3.12/site-packages/scipy/sparse/_index.py:151: SparseEfficiencyWarning: Changing the sparsity structure of a csr_matrix is expensive. lil and dok are more efficient.\n",
      "  self._set_arrayXarray(i, j, x)\n",
      "\n",
      "X_pred after padding:  [[1.         0.81649658 1.        ]\n",
      " [1.40824829 0.81649658 1.40824829]\n",
      " [0.40824829 0.         0.40824829]\n",
      " [0.40824829 0.         0.40824829]\n",
      " [0.         1.         0.5       ]]\n",
      "DEBUG - Padding by ItemKNNIncremental completed\n"
     ]
    },
    {
     "data": {
      "text/plain": [
       "    interactionid  uid  iid  ts  rating\n",
       "7               7    2   -1   7       3\n",
       "8               8    2   -1   8       4\n",
       "9               9    3   -1   9       5\n",
       "10             10    4   -1   9       1"
      ]
     },
     "execution_count": 10,
     "metadata": {},
     "output_type": "execute_result"
    }
   ],
   "source": [
    "ul_data = evaluator.get_unlabeled_data(external_model_id)\n",
    "prediction = external_model.predict(data, ul_data)\n",
    "ul_data"
   ]
  },
  {
   "cell_type": "code",
   "execution_count": 11,
   "metadata": {},
   "outputs": [
    {
     "name": "stdout",
     "output_type": "stream",
     "text": [
      "<Compressed Sparse Row sparse matrix of dtype 'float64'\n",
      "\twith 13 stored elements and shape (5, 3)>\n",
      "  Coords\tValues\n",
      "  (0, 0)\t0.9999999999999998\n",
      "  (0, 1)\t0.816496580927726\n",
      "  (0, 2)\t0.9999999999999998\n",
      "  (1, 0)\t1.4082482904638627\n",
      "  (1, 1)\t0.816496580927726\n",
      "  (1, 2)\t1.4082482904638627\n",
      "  (2, 0)\t0.408248290463863\n",
      "  (2, 2)\t0.408248290463863\n",
      "  (3, 0)\t0.408248290463863\n",
      "  (3, 2)\t0.408248290463863\n",
      "  (4, 0)\t0.0\n",
      "  (4, 1)\t1.0\n",
      "  (4, 2)\t0.5\n",
      "[[1.         0.81649658 1.        ]\n",
      " [1.40824829 0.81649658 1.40824829]\n",
      " [0.40824829 0.         0.40824829]\n",
      " [0.40824829 0.         0.40824829]\n",
      " [0.         1.         0.5       ]]\n",
      "DEBUG - Submitting prediction for algorithm bdd640fb-0667-4ad1-9c80-317fa3b1799d\n",
      "DEBUG - Precision compute started - RecallK_2\n",
      "DEBUG - Number of users: 3\n",
      "DEBUG - Number of ground truth interactions: 4\n",
      "DEBUG - Recall compute complete - RecallK_2\n",
      "DEBUG - Metric RecallK(timestamp_limit=7,K=2) created for algorithm itemknn_incremental_bdd640fb-0667-4ad1-9c80-317fa3b1799d\n",
      "DEBUG - Prediction evaluated for algorithm bdd640fb-0667-4ad1-9c80-317fa3b1799d complete\n"
     ]
    }
   ],
   "source": [
    "print(prediction)\n",
    "print(prediction.toarray())\n",
    "evaluator.submit_prediction(external_model_id, prediction)"
   ]
  },
  {
   "cell_type": "markdown",
   "metadata": {},
   "source": [
    "# Iteration 3"
   ]
  },
  {
   "cell_type": "code",
   "execution_count": 12,
   "metadata": {},
   "outputs": [
    {
     "name": "stdout",
     "output_type": "stream",
     "text": [
      "DEBUG - Getting data for algorithm bdd640fb-0667-4ad1-9c80-317fa3b1799d\n",
      "DEBUG - (user x item) shape defined is (5, 3)\n",
      "DEBUG - Shape of dataframe stored in matrix was (4, 5) before masking\n",
      "DEBUG - Shape of dataframe stored in matrix is now (4, 5) after masking\n",
      "DEBUG - Final (user x item) shape defined is (5, 3)\n",
      "DEBUG - Caching evaluation data for step 3\n",
      "DEBUG - (user x item) shape defined is (5, 3)\n",
      "DEBUG - Shape of dataframe stored in matrix was (2, 5) before masking\n",
      "DEBUG - Shape of dataframe stored in matrix is now (2, 5) after masking\n",
      "DEBUG - Final (user x item) shape defined is (5, 3)\n",
      "DEBUG - (user x item) shape defined is (5, 3)\n",
      "DEBUG - Shape of dataframe stored in matrix was (2, 5) before masking\n",
      "DEBUG - Shape of dataframe stored in matrix is now (2, 5) after masking\n",
      "DEBUG - Final (user x item) shape defined is (5, 3)\n",
      "DEBUG - Data cached for step 3 complete\n",
      "Training data:  [[1. 0. 1.]\n",
      " [1. 1. 1.]\n",
      " [1. 1. 1.]\n",
      " [0. 1. 1.]\n",
      " [1. 0. 0.]]\n",
      "Item similarities:  [[0.         0.57735027 0.75      ]\n",
      " [0.57735027 0.         0.8660254 ]\n",
      " [0.75       0.8660254  0.        ]]\n",
      "Item similarities after get_top_K_values:  [[0.         0.57735027 0.75      ]\n",
      " [0.57735027 0.         0.8660254 ]\n",
      " [0.75       0.8660254  0.        ]]\n",
      "DEBUG - Fitting ItemKNNIncremental complete - Took 0.00731s\n"
     ]
    },
    {
     "data": {
      "text/plain": [
       "    interactionid  uid  iid  ts  rating\n",
       "7               7    2    0   7       3\n",
       "8               8    2    2   8       4\n",
       "9               9    3    2   9       5\n",
       "10             10    4    0   9       1"
      ]
     },
     "execution_count": 12,
     "metadata": {},
     "output_type": "execute_result"
    }
   ],
   "source": [
    "data = evaluator.get_data(external_model_id)\n",
    "external_model.fit(data)\n",
    "data"
   ]
  },
  {
   "cell_type": "code",
   "execution_count": 13,
   "metadata": {},
   "outputs": [
    {
     "name": "stdout",
     "output_type": "stream",
     "text": [
      "DEBUG - Getting unlabeled data for algorithm bdd640fb-0667-4ad1-9c80-317fa3b1799d\n",
      "DEBUG - Performing items_in comparison\n",
      "In ItemKNNIncremental _predict:  [[0.75       1.44337567 0.75      ]\n",
      " [1.32735027 1.44337567 1.6160254 ]\n",
      " [1.32735027 1.44337567 1.6160254 ]\n",
      " [1.32735027 0.8660254  0.8660254 ]\n",
      " [0.         0.57735027 0.75      ]]\n",
      "Max user ID:  5\n",
      "Max item ID:  0\n",
      "X.shape:  (5, 3)\n",
      "Intended shape:  (5, 3)\n",
      "Predict frame:      interactionid  uid  iid  ts  rating\n",
      "11             11    4   -1  10       2\n",
      "12             12    4   -1  10       3\n"
     ]
    },
    {
     "data": {
      "text/plain": [
       "    interactionid  uid  iid  ts  rating\n",
       "11             11    4   -1  10       2\n",
       "12             12    4   -1  10       3"
      ]
     },
     "execution_count": 13,
     "metadata": {},
     "output_type": "execute_result"
    }
   ],
   "source": [
    "ul_data = evaluator.get_unlabeled_data(external_model_id)\n",
    "prediction = external_model.predict(data, ul_data)\n",
    "ul_data"
   ]
  },
  {
   "cell_type": "code",
   "execution_count": 14,
   "metadata": {},
   "outputs": [
    {
     "name": "stdout",
     "output_type": "stream",
     "text": [
      "<Compressed Sparse Row sparse matrix of dtype 'float64'\n",
      "\twith 14 stored elements and shape (5, 3)>\n",
      "  Coords\tValues\n",
      "  (0, 0)\t0.75\n",
      "  (0, 1)\t1.4433756729740645\n",
      "  (0, 2)\t0.75\n",
      "  (1, 0)\t1.3273502691896257\n",
      "  (1, 1)\t1.4433756729740645\n",
      "  (1, 2)\t1.6160254037844388\n",
      "  (2, 0)\t1.3273502691896257\n",
      "  (2, 1)\t1.4433756729740645\n",
      "  (2, 2)\t1.6160254037844388\n",
      "  (3, 1)\t0.8660254037844388\n",
      "  (3, 0)\t1.3273502691896257\n",
      "  (3, 2)\t0.8660254037844388\n",
      "  (4, 1)\t0.5773502691896258\n",
      "  (4, 2)\t0.75\n",
      "[[0.75       1.44337567 0.75      ]\n",
      " [1.32735027 1.44337567 1.6160254 ]\n",
      " [1.32735027 1.44337567 1.6160254 ]\n",
      " [1.32735027 0.8660254  0.8660254 ]\n",
      " [0.         0.57735027 0.75      ]]\n",
      "DEBUG - Submitting prediction for algorithm bdd640fb-0667-4ad1-9c80-317fa3b1799d\n",
      "DEBUG - Precision compute started - RecallK_2\n",
      "DEBUG - Number of users: 1\n",
      "DEBUG - Number of ground truth interactions: 2\n",
      "DEBUG - Recall compute complete - RecallK_2\n",
      "DEBUG - Metric RecallK(timestamp_limit=10,K=2) created for algorithm itemknn_incremental_bdd640fb-0667-4ad1-9c80-317fa3b1799d\n",
      "DEBUG - Prediction evaluated for algorithm bdd640fb-0667-4ad1-9c80-317fa3b1799d complete\n",
      "INFO - Finished streaming\n",
      "WARNING - /Users/joshua/projects/fyp/streamsightv2/venv/lib/python3.12/site-packages/streamsight/evaluators/evaluator_stream.py:381: AlgorithmStatusWarning: Algorithm:bdd640fb-0667-4ad1-9c80-317fa3b1799d current status is READY. Algorithm has completed stream evaluation. No more data release available.\n",
      "  warn(AlgorithmStatusWarning(algo_id, status, \"complete\"))\n",
      "\n"
     ]
    }
   ],
   "source": [
    "print(prediction)\n",
    "print(prediction.toarray())\n",
    "evaluator.submit_prediction(external_model_id, prediction)"
   ]
  },
  {
   "cell_type": "markdown",
   "metadata": {},
   "source": [
    "# evaluate metrics"
   ]
  },
  {
   "cell_type": "code",
   "execution_count": 15,
   "metadata": {},
   "outputs": [
    {
     "data": {
      "text/plain": [
       "{'itemknn_incremental_bdd640fb-0667-4ad1-9c80-317fa3b1799d': <AlgorithmStateEnum.COMPLETED: 'COMPLETED'>}"
      ]
     },
     "execution_count": 15,
     "metadata": {},
     "output_type": "execute_result"
    }
   ],
   "source": [
    "evaluator.get_all_algorithm_status()"
   ]
  },
  {
   "cell_type": "code",
   "execution_count": 16,
   "metadata": {},
   "outputs": [
    {
     "data": {
      "text/html": [
       "<div>\n",
       "<style scoped>\n",
       "    .dataframe tbody tr th:only-of-type {\n",
       "        vertical-align: middle;\n",
       "    }\n",
       "\n",
       "    .dataframe tbody tr th {\n",
       "        vertical-align: top;\n",
       "    }\n",
       "\n",
       "    .dataframe thead th {\n",
       "        text-align: right;\n",
       "    }\n",
       "</style>\n",
       "<table border=\"1\" class=\"dataframe\">\n",
       "  <thead>\n",
       "    <tr style=\"text-align: right;\">\n",
       "      <th></th>\n",
       "      <th></th>\n",
       "      <th>macro_score</th>\n",
       "      <th>num_window</th>\n",
       "    </tr>\n",
       "    <tr>\n",
       "      <th>Algorithm</th>\n",
       "      <th>Metric</th>\n",
       "      <th></th>\n",
       "      <th></th>\n",
       "    </tr>\n",
       "  </thead>\n",
       "  <tbody>\n",
       "    <tr>\n",
       "      <th>itemknn_incremental_bdd640fb-0667-4ad1-9c80-317fa3b1799d</th>\n",
       "      <th>RecallK_2</th>\n",
       "      <td>0.638889</td>\n",
       "      <td>3</td>\n",
       "    </tr>\n",
       "  </tbody>\n",
       "</table>\n",
       "</div>"
      ],
      "text/plain": [
       "                                                              macro_score  \\\n",
       "Algorithm                                          Metric                   \n",
       "itemknn_incremental_bdd640fb-0667-4ad1-9c80-317... RecallK_2     0.638889   \n",
       "\n",
       "                                                              num_window  \n",
       "Algorithm                                          Metric                 \n",
       "itemknn_incremental_bdd640fb-0667-4ad1-9c80-317... RecallK_2           3  "
      ]
     },
     "execution_count": 16,
     "metadata": {},
     "output_type": "execute_result"
    }
   ],
   "source": [
    "evaluator.metric_results(\"macro\")"
   ]
  },
  {
   "cell_type": "code",
   "execution_count": 17,
   "metadata": {},
   "outputs": [
    {
     "data": {
      "text/html": [
       "<div>\n",
       "<style scoped>\n",
       "    .dataframe tbody tr th:only-of-type {\n",
       "        vertical-align: middle;\n",
       "    }\n",
       "\n",
       "    .dataframe tbody tr th {\n",
       "        vertical-align: top;\n",
       "    }\n",
       "\n",
       "    .dataframe thead th {\n",
       "        text-align: right;\n",
       "    }\n",
       "</style>\n",
       "<table border=\"1\" class=\"dataframe\">\n",
       "  <thead>\n",
       "    <tr style=\"text-align: right;\">\n",
       "      <th></th>\n",
       "      <th></th>\n",
       "      <th>micro_score</th>\n",
       "      <th>num_user</th>\n",
       "    </tr>\n",
       "    <tr>\n",
       "      <th>Algorithm</th>\n",
       "      <th>Metric</th>\n",
       "      <th></th>\n",
       "      <th></th>\n",
       "    </tr>\n",
       "  </thead>\n",
       "  <tbody>\n",
       "    <tr>\n",
       "      <th>itemknn_incremental_bdd640fb-0667-4ad1-9c80-317fa3b1799d</th>\n",
       "      <th>RecallK_2</th>\n",
       "      <td>0.583333</td>\n",
       "      <td>6</td>\n",
       "    </tr>\n",
       "  </tbody>\n",
       "</table>\n",
       "</div>"
      ],
      "text/plain": [
       "                                                             micro_score  \\\n",
       "Algorithm                                          Metric                  \n",
       "itemknn_incremental_bdd640fb-0667-4ad1-9c80-317... RecallK_2    0.583333   \n",
       "\n",
       "                                                              num_user  \n",
       "Algorithm                                          Metric               \n",
       "itemknn_incremental_bdd640fb-0667-4ad1-9c80-317... RecallK_2         6  "
      ]
     },
     "execution_count": 17,
     "metadata": {},
     "output_type": "execute_result"
    }
   ],
   "source": [
    "evaluator.metric_results(\"micro\")\n"
   ]
  },
  {
   "cell_type": "code",
   "execution_count": 18,
   "metadata": {},
   "outputs": [
    {
     "data": {
      "text/html": [
       "<div>\n",
       "<style scoped>\n",
       "    .dataframe tbody tr th:only-of-type {\n",
       "        vertical-align: middle;\n",
       "    }\n",
       "\n",
       "    .dataframe tbody tr th {\n",
       "        vertical-align: top;\n",
       "    }\n",
       "\n",
       "    .dataframe thead th {\n",
       "        text-align: right;\n",
       "    }\n",
       "</style>\n",
       "<table border=\"1\" class=\"dataframe\">\n",
       "  <thead>\n",
       "    <tr style=\"text-align: right;\">\n",
       "      <th></th>\n",
       "      <th></th>\n",
       "      <th></th>\n",
       "      <th>user_id</th>\n",
       "      <th>score</th>\n",
       "    </tr>\n",
       "    <tr>\n",
       "      <th>Algorithm</th>\n",
       "      <th>Timestamp</th>\n",
       "      <th>Metric</th>\n",
       "      <th></th>\n",
       "      <th></th>\n",
       "    </tr>\n",
       "  </thead>\n",
       "  <tbody>\n",
       "    <tr>\n",
       "      <th rowspan=\"6\" valign=\"top\">itemknn_incremental_bdd640fb-0667-4ad1-9c80-317fa3b1799d</th>\n",
       "      <th rowspan=\"2\" valign=\"top\">t=4</th>\n",
       "      <th>RecallK_2</th>\n",
       "      <td>1</td>\n",
       "      <td>0.5</td>\n",
       "    </tr>\n",
       "    <tr>\n",
       "      <th>RecallK_2</th>\n",
       "      <td>3</td>\n",
       "      <td>0.0</td>\n",
       "    </tr>\n",
       "    <tr>\n",
       "      <th rowspan=\"3\" valign=\"top\">t=7</th>\n",
       "      <th>RecallK_2</th>\n",
       "      <td>2</td>\n",
       "      <td>1.0</td>\n",
       "    </tr>\n",
       "    <tr>\n",
       "      <th>RecallK_2</th>\n",
       "      <td>3</td>\n",
       "      <td>1.0</td>\n",
       "    </tr>\n",
       "    <tr>\n",
       "      <th>RecallK_2</th>\n",
       "      <td>4</td>\n",
       "      <td>0.0</td>\n",
       "    </tr>\n",
       "    <tr>\n",
       "      <th>t=10</th>\n",
       "      <th>RecallK_2</th>\n",
       "      <td>4</td>\n",
       "      <td>1.0</td>\n",
       "    </tr>\n",
       "  </tbody>\n",
       "</table>\n",
       "</div>"
      ],
      "text/plain": [
       "                                                                       user_id  \\\n",
       "Algorithm                                          Timestamp Metric              \n",
       "itemknn_incremental_bdd640fb-0667-4ad1-9c80-317... t=4       RecallK_2       1   \n",
       "                                                             RecallK_2       3   \n",
       "                                                   t=7       RecallK_2       2   \n",
       "                                                             RecallK_2       3   \n",
       "                                                             RecallK_2       4   \n",
       "                                                   t=10      RecallK_2       4   \n",
       "\n",
       "                                                                       score  \n",
       "Algorithm                                          Timestamp Metric           \n",
       "itemknn_incremental_bdd640fb-0667-4ad1-9c80-317... t=4       RecallK_2   0.5  \n",
       "                                                             RecallK_2   0.0  \n",
       "                                                   t=7       RecallK_2   1.0  \n",
       "                                                             RecallK_2   1.0  \n",
       "                                                             RecallK_2   0.0  \n",
       "                                                   t=10      RecallK_2   1.0  "
      ]
     },
     "execution_count": 18,
     "metadata": {},
     "output_type": "execute_result"
    }
   ],
   "source": [
    "evaluator.metric_results(\"user\")"
   ]
  },
  {
   "cell_type": "code",
   "execution_count": 19,
   "metadata": {},
   "outputs": [
    {
     "data": {
      "text/html": [
       "<div>\n",
       "<style scoped>\n",
       "    .dataframe tbody tr th:only-of-type {\n",
       "        vertical-align: middle;\n",
       "    }\n",
       "\n",
       "    .dataframe tbody tr th {\n",
       "        vertical-align: top;\n",
       "    }\n",
       "\n",
       "    .dataframe thead th {\n",
       "        text-align: right;\n",
       "    }\n",
       "</style>\n",
       "<table border=\"1\" class=\"dataframe\">\n",
       "  <thead>\n",
       "    <tr style=\"text-align: right;\">\n",
       "      <th></th>\n",
       "      <th></th>\n",
       "      <th></th>\n",
       "      <th>window_score</th>\n",
       "      <th>num_user</th>\n",
       "    </tr>\n",
       "    <tr>\n",
       "      <th>Algorithm</th>\n",
       "      <th>Timestamp</th>\n",
       "      <th>Metric</th>\n",
       "      <th></th>\n",
       "      <th></th>\n",
       "    </tr>\n",
       "  </thead>\n",
       "  <tbody>\n",
       "    <tr>\n",
       "      <th rowspan=\"3\" valign=\"top\">itemknn_incremental_bdd640fb-0667-4ad1-9c80-317fa3b1799d</th>\n",
       "      <th>t=4</th>\n",
       "      <th>RecallK_2</th>\n",
       "      <td>0.250000</td>\n",
       "      <td>2</td>\n",
       "    </tr>\n",
       "    <tr>\n",
       "      <th>t=7</th>\n",
       "      <th>RecallK_2</th>\n",
       "      <td>0.666667</td>\n",
       "      <td>3</td>\n",
       "    </tr>\n",
       "    <tr>\n",
       "      <th>t=10</th>\n",
       "      <th>RecallK_2</th>\n",
       "      <td>1.000000</td>\n",
       "      <td>1</td>\n",
       "    </tr>\n",
       "  </tbody>\n",
       "</table>\n",
       "</div>"
      ],
      "text/plain": [
       "                                                                        window_score  \\\n",
       "Algorithm                                          Timestamp Metric                    \n",
       "itemknn_incremental_bdd640fb-0667-4ad1-9c80-317... t=4       RecallK_2      0.250000   \n",
       "                                                   t=7       RecallK_2      0.666667   \n",
       "                                                   t=10      RecallK_2      1.000000   \n",
       "\n",
       "                                                                        num_user  \n",
       "Algorithm                                          Timestamp Metric               \n",
       "itemknn_incremental_bdd640fb-0667-4ad1-9c80-317... t=4       RecallK_2         2  \n",
       "                                                   t=7       RecallK_2         3  \n",
       "                                                   t=10      RecallK_2         1  "
      ]
     },
     "execution_count": 19,
     "metadata": {},
     "output_type": "execute_result"
    }
   ],
   "source": [
    "evaluator.metric_results(\"window\")"
   ]
  }
 ],
 "metadata": {
  "kernelspec": {
   "display_name": "venv",
   "language": "python",
   "name": "python3"
  },
  "language_info": {
   "codemirror_mode": {
    "name": "ipython",
    "version": 3
   },
   "file_extension": ".py",
   "mimetype": "text/x-python",
   "name": "python",
   "nbconvert_exporter": "python",
   "pygments_lexer": "ipython3",
   "version": "3.12.5"
  }
 },
 "nbformat": 4,
 "nbformat_minor": 2
}
