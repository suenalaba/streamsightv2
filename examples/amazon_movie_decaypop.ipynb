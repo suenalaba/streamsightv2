{
 "cells": [
  {
   "cell_type": "code",
   "execution_count": null,
   "metadata": {},
   "outputs": [],
   "source": [
    "k = 100\n",
    "from streamsight.datasets.movielens import MovieLens100K\n",
    "from streamsight.settings import SlidingWindowSetting\n",
    "dataset = MovieLens100K()\n",
    "data = dataset.load()\n",
    "\n",
    "setting_window = SlidingWindowSetting(\n",
    "    background_t=880606923,\n",
    "    window_size=60 * 60 * 24 * 30, # day times N\n",
    "    # n_seq_data=9999,\n",
    "    top_K=k\n",
    ")\n",
    "\n",
    "setting_window.split(data)"
   ]
  },
  {
   "cell_type": "code",
   "execution_count": null,
   "metadata": {},
   "outputs": [],
   "source": [
    "from streamsight.evaluators import EvaluatorStreamerBuilder\n",
    "\n",
    "builder = EvaluatorStreamerBuilder()\n",
    "builder.add_setting(setting_window)\n",
    "builder.set_metric_K(k)\n",
    "# builder.add_metric(\"PrecisionK\")\n",
    "builder.add_metric(\"RecallK\")\n",
    "evaluator = builder.build()"
   ]
  },
  {
   "cell_type": "code",
   "execution_count": null,
   "metadata": {},
   "outputs": [],
   "source": [
    "from streamsight.algorithms import DecayPopularity\n",
    "# from recpack.algorithms import Popularity\n",
    "external_model = DecayPopularity(K=k)\n",
    "# external_model = ItemKNNIncremental(K=10)\n",
    "external_model_id = evaluator.register_algorithm(algorithm_name=\"my own algo\")\n",
    "print(external_model_id)"
   ]
  },
  {
   "cell_type": "code",
   "execution_count": null,
   "metadata": {},
   "outputs": [],
   "source": [
    "evaluator.start_stream()"
   ]
  },
  {
   "cell_type": "markdown",
   "metadata": {},
   "source": [
    "# Iteration 1"
   ]
  },
  {
   "cell_type": "code",
   "execution_count": null,
   "metadata": {},
   "outputs": [],
   "source": [
    "data = evaluator.get_data(external_model_id)\n",
    "external_model.fit(data)\n",
    "data"
   ]
  },
  {
   "cell_type": "code",
   "execution_count": null,
   "metadata": {},
   "outputs": [],
   "source": [
    "ul_data = evaluator.get_unlabeled_data(external_model_id)\n",
    "prediction = external_model.predict(data, ul_data)\n",
    "ul_data"
   ]
  },
  {
   "cell_type": "code",
   "execution_count": null,
   "metadata": {},
   "outputs": [],
   "source": [
    "print(prediction)\n",
    "print(prediction.toarray())\n",
    "evaluator.submit_prediction(external_model_id, prediction)"
   ]
  },
  {
   "cell_type": "markdown",
   "metadata": {},
   "source": [
    "# Iteration 2"
   ]
  },
  {
   "cell_type": "code",
   "execution_count": null,
   "metadata": {},
   "outputs": [],
   "source": [
    "data = evaluator.get_data(external_model_id)\n",
    "external_model.fit(data)\n",
    "data"
   ]
  },
  {
   "cell_type": "code",
   "execution_count": null,
   "metadata": {},
   "outputs": [],
   "source": [
    "ul_data = evaluator.get_unlabeled_data(external_model_id)\n",
    "prediction = external_model.predict(data, ul_data)\n",
    "ul_data"
   ]
  },
  {
   "cell_type": "code",
   "execution_count": null,
   "metadata": {},
   "outputs": [],
   "source": [
    "print(prediction)\n",
    "print(prediction.toarray())\n",
    "evaluator.submit_prediction(external_model_id, prediction)"
   ]
  },
  {
   "cell_type": "markdown",
   "metadata": {},
   "source": [
    "# Iteration 3"
   ]
  },
  {
   "cell_type": "code",
   "execution_count": null,
   "metadata": {},
   "outputs": [],
   "source": [
    "data = evaluator.get_data(external_model_id)\n",
    "external_model.fit(data)\n",
    "data"
   ]
  },
  {
   "cell_type": "code",
   "execution_count": null,
   "metadata": {},
   "outputs": [],
   "source": [
    "ul_data = evaluator.get_unlabeled_data(external_model_id)\n",
    "prediction = external_model.predict(data, ul_data)\n",
    "ul_data"
   ]
  },
  {
   "cell_type": "code",
   "execution_count": null,
   "metadata": {},
   "outputs": [],
   "source": [
    "print(prediction)\n",
    "print(prediction.toarray())\n",
    "evaluator.submit_prediction(external_model_id, prediction)"
   ]
  },
  {
   "cell_type": "markdown",
   "metadata": {},
   "source": [
    "# evaluate metrics"
   ]
  },
  {
   "cell_type": "code",
   "execution_count": null,
   "metadata": {},
   "outputs": [],
   "source": [
    "evaluator.get_all_algorithm_status()"
   ]
  },
  {
   "cell_type": "code",
   "execution_count": null,
   "metadata": {},
   "outputs": [],
   "source": [
    "evaluator.metric_results(\"macro\")"
   ]
  },
  {
   "cell_type": "code",
   "execution_count": null,
   "metadata": {},
   "outputs": [],
   "source": [
    "evaluator.metric_results(\"micro\")\n"
   ]
  },
  {
   "cell_type": "code",
   "execution_count": null,
   "metadata": {},
   "outputs": [],
   "source": [
    "evaluator.metric_results(\"user\")"
   ]
  },
  {
   "cell_type": "code",
   "execution_count": null,
   "metadata": {},
   "outputs": [],
   "source": [
    "evaluator.metric_results(\"window\")"
   ]
  }
 ],
 "metadata": {
  "kernelspec": {
   "display_name": "venv",
   "language": "python",
   "name": "python3"
  },
  "language_info": {
   "codemirror_mode": {
    "name": "ipython",
    "version": 3
   },
   "file_extension": ".py",
   "mimetype": "text/x-python",
   "name": "python",
   "nbconvert_exporter": "python",
   "pygments_lexer": "ipython3",
   "version": "3.12.5"
  }
 },
 "nbformat": 4,
 "nbformat_minor": 2
}
